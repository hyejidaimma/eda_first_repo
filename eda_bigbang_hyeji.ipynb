{
 "cells": [
  {
   "cell_type": "markdown",
   "metadata": {},
   "source": [
    "# 빅뱅이론 데이터 분석\n",
    "\n",
    "https://www.imdb.com/\n",
    "\n",
    "#### 빅뱅이론 (The Big Bang Theory) 를 검색\n",
    "\n",
    ">   - 해당 시즌, 상영일자를 조회하여 데이터를 분석\n",
    ">   - \n",
    "\n",
    "#### 시각화에 필요한 데이터 \n",
    ">   - 인덱스 : 시즌\n",
    ">   - 열 : 연도,회차 수, 조회수 높은 회차 수 , 조회수 높은 비율 ,(평점 및 평균평점)\n",
    "#### 그래프 ( 각 항목당 상위 5개 노출)\n",
    ">   - 에피소드가 가장 많은 시즌은?\n",
    ">   - 조회수가 높은 시즌은?\n",
    ">   - 평점 높은 시즌은? \n"
   ]
  },
  {
   "cell_type": "markdown",
   "metadata": {},
   "source": [
    "## [1] 데이터 분석할 페이지로 이동과정"
   ]
  },
  {
   "cell_type": "markdown",
   "metadata": {},
   "source": [
    "#### 0. 환경설정"
   ]
  },
  {
   "cell_type": "code",
   "execution_count": 1,
   "metadata": {},
   "outputs": [],
   "source": [
    "from selenium import webdriver\n",
    "from selenium.webdriver.chrome.service import Service\n",
    "from selenium.webdriver.chrome.options import Options\n",
    "\n",
    "options = webdriver.ChromeOptions()\n",
    "\n",
    "prefs = {'download.default_directory' : '/home/hyeji/dev_ws/eda/data',\n",
    "         'download.promt_for_download': False}\n",
    "options.add_experimental_option('prefs',prefs)\n",
    "\n",
    "url = \"https://www.imdb.com/\"\n",
    "driver = webdriver.Chrome(service=Service(\"../driver/chromedriver-linux64/chromedriver\"),\n",
    "                          options=options)\n",
    "driver.get(url)"
   ]
  },
  {
   "cell_type": "code",
   "execution_count": 12,
   "metadata": {},
   "outputs": [],
   "source": [
    "driver.quit()"
   ]
  },
  {
   "cell_type": "markdown",
   "metadata": {},
   "source": [
    "#### 1. 검색창 클릭 후 검색어 입력\n",
    "\n",
    "//*[@id=\"suggestion-search\"] <- 검색창 Xpath\n"
   ]
  },
  {
   "cell_type": "code",
   "execution_count": 2,
   "metadata": {},
   "outputs": [],
   "source": [
    "from selenium.webdriver.common.by import By\n",
    "from selenium.webdriver.common.keys import Keys\n",
    "search = driver.find_element(By.XPATH,'''//*[@id=\"suggestion-search\"]''')\n",
    "search.click()\n",
    "search.send_keys(\"big bang theory\")\n"
   ]
  },
  {
   "cell_type": "code",
   "execution_count": 3,
   "metadata": {},
   "outputs": [],
   "source": [
    "driver.find_element(By.XPATH,'''//*[@id=\"react-autowhatever-navSuggestionSearch--item-0\"]/a/div[2]/div[1]''').click()\n"
   ]
  },
  {
   "cell_type": "code",
   "execution_count": 236,
   "metadata": {},
   "outputs": [],
   "source": [
    "#big_bang = driver.current_url"
   ]
  },
  {
   "cell_type": "markdown",
   "metadata": {},
   "source": [
    "#### 2. 제목 클릭 \n",
    "\n",
    "//*[@id=\"__next\"]/main/div[2]/div[3]/section/div/div[1]/section[2]/div[2]/ul/li[1]/div[2]/div/a"
   ]
  },
  {
   "cell_type": "markdown",
   "metadata": {},
   "source": [
    "#### 3. 특정 지점으로 스크롤\n",
    "//*[@id=\"__next\"]/main/div/section[1]/div/section/div/div[1]/section[2]/div[1]"
   ]
  },
  {
   "cell_type": "markdown",
   "metadata": {},
   "source": [
    "맨 위로 스크롤"
   ]
  },
  {
   "cell_type": "code",
   "execution_count": 23,
   "metadata": {},
   "outputs": [],
   "source": [
    "driver.execute_script(\"window.scrollTo(0, 0)\")"
   ]
  },
  {
   "cell_type": "code",
   "execution_count": 4,
   "metadata": {},
   "outputs": [
    {
     "name": "stdout",
     "output_type": "stream",
     "text": [
      "Episodes\n",
      "280\n"
     ]
    }
   ],
   "source": [
    "\n",
    "epi_tab = driver.find_element(By.XPATH,'''//*[@id=\"__next\"]/main/div/section[1]/div/section/div/div[1]/section[2]/div[1]''')\n",
    "print(epi_tab.text)\n",
    "driver.execute_script(\"arguments[0].scrollIntoView(false)\", epi_tab)"
   ]
  },
  {
   "cell_type": "markdown",
   "metadata": {},
   "source": [
    "#### 4. 에피소드 탭으로 이동 "
   ]
  },
  {
   "cell_type": "code",
   "execution_count": 5,
   "metadata": {},
   "outputs": [],
   "source": [
    "epi_butn = epi_tab.find_element(By.CLASS_NAME,\"ipc-title-link-wrapper\")\n",
    "epi_butn.click()"
   ]
  },
  {
   "cell_type": "markdown",
   "metadata": {},
   "source": [
    "## [2] 데이터 상세 분석 시작 !"
   ]
  },
  {
   "cell_type": "markdown",
   "metadata": {},
   "source": [
    "#### 1. 고정으로 사용할 부분 지정"
   ]
  },
  {
   "cell_type": "code",
   "execution_count": 6,
   "metadata": {},
   "outputs": [],
   "source": [
    "current_page = driver.current_url"
   ]
  },
  {
   "cell_type": "code",
   "execution_count": 7,
   "metadata": {},
   "outputs": [],
   "source": [
    "episode = driver.find_element(By.XPATH,'''//*[@id=\"__next\"]/main/div/section/div/section/div/div[1]/section[2]''')"
   ]
  },
  {
   "cell_type": "code",
   "execution_count": 8,
   "metadata": {},
   "outputs": [
    {
     "name": "stdout",
     "output_type": "stream",
     "text": [
      "0 ----- Seasons\n",
      "1 ----- Years\n",
      "2 ----- Top-rated\n"
     ]
    }
   ],
   "source": [
    "category = episode.find_element(By.XPATH, '''//*[@id=\"__next\"]/main/div/section/div/section/div/div[1]/section[2]/section[1]/div[1]''')\n",
    "category_list = category.find_elements(By.TAG_NAME, \"a\")\n",
    "for i in range(len(category_list)):\n",
    "    print(str(i)+\" ----- \"+category_list[i].text)"
   ]
  },
  {
   "cell_type": "code",
   "execution_count": 9,
   "metadata": {},
   "outputs": [],
   "source": [
    "category_list[0].click()"
   ]
  },
  {
   "cell_type": "markdown",
   "metadata": {},
   "source": [
    "#### 2. 시즌정보 가져오기 "
   ]
  },
  {
   "cell_type": "code",
   "execution_count": 10,
   "metadata": {},
   "outputs": [
    {
     "data": {
      "text/plain": [
       "['1', '2', '3', '4', '5', '6', '7', '8', '9', '10', '11', '12', 'Unknown']"
      ]
     },
     "execution_count": 10,
     "metadata": {},
     "output_type": "execute_result"
    }
   ],
   "source": [
    "season_list = []\n",
    "num_info = episode.find_element(By.XPATH, '''//*[@id=\"__next\"]/main/div/section/div/section/div/div[1]/section[2]/section[1]/div[2]/ul''')\n",
    "info_list = num_info.find_elements(By.TAG_NAME, \"a\")\n",
    "for i in range(len(info_list)):\n",
    "    #print(str(i)+\" ----- \"+info_list[i].text)\n",
    "    season_list.append(info_list[i].text)\n",
    "season_list\n",
    "\n"
   ]
  },
  {
   "cell_type": "markdown",
   "metadata": {},
   "source": [
    "#### 3. 시즌별 회차 제목 가져오기"
   ]
  },
  {
   "cell_type": "code",
   "execution_count": 11,
   "metadata": {},
   "outputs": [
    {
     "ename": "StaleElementReferenceException",
     "evalue": "Message: stale element reference: stale element not found\n  (Session info: chrome=122.0.6261.94); For documentation on this error, please visit: https://www.selenium.dev/documentation/webdriver/troubleshooting/errors#stale-element-reference-exception\nStacktrace:\n#0 0x55ae646b9e93 <unknown>\n#1 0x55ae643b1ce6 <unknown>\n#2 0x55ae643b70bc <unknown>\n#3 0x55ae643b8e4b <unknown>\n#4 0x55ae643b8eec <unknown>\n#5 0x55ae643f7322 <unknown>\n#6 0x55ae6441eeb2 <unknown>\n#7 0x55ae643f16b8 <unknown>\n#8 0x55ae6441f07e <unknown>\n#9 0x55ae6443d899 <unknown>\n#10 0x55ae6441ec53 <unknown>\n#11 0x55ae643efdb3 <unknown>\n#12 0x55ae643f077e <unknown>\n#13 0x55ae6467f7cb <unknown>\n#14 0x55ae646837e5 <unknown>\n#15 0x55ae6466d0e1 <unknown>\n#16 0x55ae64684372 <unknown>\n#17 0x55ae646511bf <unknown>\n#18 0x55ae646a8488 <unknown>\n#19 0x55ae646a8683 <unknown>\n#20 0x55ae646b9044 <unknown>\n#21 0x7fbbf4c94ac3 <unknown>\n",
     "output_type": "error",
     "traceback": [
      "\u001b[0;31m---------------------------------------------------------------------------\u001b[0m",
      "\u001b[0;31mStaleElementReferenceException\u001b[0m            Traceback (most recent call last)",
      "Cell \u001b[0;32mIn[11], line 11\u001b[0m\n\u001b[1;32m      9\u001b[0m     epi_len\u001b[38;5;241m.\u001b[39mappend(\u001b[38;5;28mlen\u001b[39m(title))\n\u001b[1;32m     10\u001b[0m     \u001b[38;5;28;01mfor\u001b[39;00m t \u001b[38;5;129;01min\u001b[39;00m title:\n\u001b[0;32m---> 11\u001b[0m         title_list\u001b[38;5;241m.\u001b[39mappend(\u001b[43mt\u001b[49m\u001b[38;5;241;43m.\u001b[39;49m\u001b[43mtext\u001b[49m)\n\u001b[1;32m     12\u001b[0m \u001b[38;5;28mlen\u001b[39m(info_list), \u001b[38;5;28mlen\u001b[39m(epi_len), \u001b[38;5;28mlen\u001b[39m(title_list)\n",
      "File \u001b[0;32m~/venv/env_venv/lib/python3.10/site-packages/selenium/webdriver/remote/webelement.py:90\u001b[0m, in \u001b[0;36mWebElement.text\u001b[0;34m(self)\u001b[0m\n\u001b[1;32m     87\u001b[0m \u001b[38;5;129m@property\u001b[39m\n\u001b[1;32m     88\u001b[0m \u001b[38;5;28;01mdef\u001b[39;00m \u001b[38;5;21mtext\u001b[39m(\u001b[38;5;28mself\u001b[39m) \u001b[38;5;241m-\u001b[39m\u001b[38;5;241m>\u001b[39m \u001b[38;5;28mstr\u001b[39m:\n\u001b[1;32m     89\u001b[0m \u001b[38;5;250m    \u001b[39m\u001b[38;5;124;03m\"\"\"The text of the element.\"\"\"\u001b[39;00m\n\u001b[0;32m---> 90\u001b[0m     \u001b[38;5;28;01mreturn\u001b[39;00m \u001b[38;5;28;43mself\u001b[39;49m\u001b[38;5;241;43m.\u001b[39;49m\u001b[43m_execute\u001b[49m\u001b[43m(\u001b[49m\u001b[43mCommand\u001b[49m\u001b[38;5;241;43m.\u001b[39;49m\u001b[43mGET_ELEMENT_TEXT\u001b[49m\u001b[43m)\u001b[49m[\u001b[38;5;124m\"\u001b[39m\u001b[38;5;124mvalue\u001b[39m\u001b[38;5;124m\"\u001b[39m]\n",
      "File \u001b[0;32m~/venv/env_venv/lib/python3.10/site-packages/selenium/webdriver/remote/webelement.py:395\u001b[0m, in \u001b[0;36mWebElement._execute\u001b[0;34m(self, command, params)\u001b[0m\n\u001b[1;32m    393\u001b[0m     params \u001b[38;5;241m=\u001b[39m {}\n\u001b[1;32m    394\u001b[0m params[\u001b[38;5;124m\"\u001b[39m\u001b[38;5;124mid\u001b[39m\u001b[38;5;124m\"\u001b[39m] \u001b[38;5;241m=\u001b[39m \u001b[38;5;28mself\u001b[39m\u001b[38;5;241m.\u001b[39m_id\n\u001b[0;32m--> 395\u001b[0m \u001b[38;5;28;01mreturn\u001b[39;00m \u001b[38;5;28;43mself\u001b[39;49m\u001b[38;5;241;43m.\u001b[39;49m\u001b[43m_parent\u001b[49m\u001b[38;5;241;43m.\u001b[39;49m\u001b[43mexecute\u001b[49m\u001b[43m(\u001b[49m\u001b[43mcommand\u001b[49m\u001b[43m,\u001b[49m\u001b[43m \u001b[49m\u001b[43mparams\u001b[49m\u001b[43m)\u001b[49m\n",
      "File \u001b[0;32m~/venv/env_venv/lib/python3.10/site-packages/selenium/webdriver/remote/webdriver.py:347\u001b[0m, in \u001b[0;36mWebDriver.execute\u001b[0;34m(self, driver_command, params)\u001b[0m\n\u001b[1;32m    345\u001b[0m response \u001b[38;5;241m=\u001b[39m \u001b[38;5;28mself\u001b[39m\u001b[38;5;241m.\u001b[39mcommand_executor\u001b[38;5;241m.\u001b[39mexecute(driver_command, params)\n\u001b[1;32m    346\u001b[0m \u001b[38;5;28;01mif\u001b[39;00m response:\n\u001b[0;32m--> 347\u001b[0m     \u001b[38;5;28;43mself\u001b[39;49m\u001b[38;5;241;43m.\u001b[39;49m\u001b[43merror_handler\u001b[49m\u001b[38;5;241;43m.\u001b[39;49m\u001b[43mcheck_response\u001b[49m\u001b[43m(\u001b[49m\u001b[43mresponse\u001b[49m\u001b[43m)\u001b[49m\n\u001b[1;32m    348\u001b[0m     response[\u001b[38;5;124m\"\u001b[39m\u001b[38;5;124mvalue\u001b[39m\u001b[38;5;124m\"\u001b[39m] \u001b[38;5;241m=\u001b[39m \u001b[38;5;28mself\u001b[39m\u001b[38;5;241m.\u001b[39m_unwrap_value(response\u001b[38;5;241m.\u001b[39mget(\u001b[38;5;124m\"\u001b[39m\u001b[38;5;124mvalue\u001b[39m\u001b[38;5;124m\"\u001b[39m, \u001b[38;5;28;01mNone\u001b[39;00m))\n\u001b[1;32m    349\u001b[0m     \u001b[38;5;28;01mreturn\u001b[39;00m response\n",
      "File \u001b[0;32m~/venv/env_venv/lib/python3.10/site-packages/selenium/webdriver/remote/errorhandler.py:229\u001b[0m, in \u001b[0;36mErrorHandler.check_response\u001b[0;34m(self, response)\u001b[0m\n\u001b[1;32m    227\u001b[0m         alert_text \u001b[38;5;241m=\u001b[39m value[\u001b[38;5;124m\"\u001b[39m\u001b[38;5;124malert\u001b[39m\u001b[38;5;124m\"\u001b[39m]\u001b[38;5;241m.\u001b[39mget(\u001b[38;5;124m\"\u001b[39m\u001b[38;5;124mtext\u001b[39m\u001b[38;5;124m\"\u001b[39m)\n\u001b[1;32m    228\u001b[0m     \u001b[38;5;28;01mraise\u001b[39;00m exception_class(message, screen, stacktrace, alert_text)  \u001b[38;5;66;03m# type: ignore[call-arg]  # mypy is not smart enough here\u001b[39;00m\n\u001b[0;32m--> 229\u001b[0m \u001b[38;5;28;01mraise\u001b[39;00m exception_class(message, screen, stacktrace)\n",
      "\u001b[0;31mStaleElementReferenceException\u001b[0m: Message: stale element reference: stale element not found\n  (Session info: chrome=122.0.6261.94); For documentation on this error, please visit: https://www.selenium.dev/documentation/webdriver/troubleshooting/errors#stale-element-reference-exception\nStacktrace:\n#0 0x55ae646b9e93 <unknown>\n#1 0x55ae643b1ce6 <unknown>\n#2 0x55ae643b70bc <unknown>\n#3 0x55ae643b8e4b <unknown>\n#4 0x55ae643b8eec <unknown>\n#5 0x55ae643f7322 <unknown>\n#6 0x55ae6441eeb2 <unknown>\n#7 0x55ae643f16b8 <unknown>\n#8 0x55ae6441f07e <unknown>\n#9 0x55ae6443d899 <unknown>\n#10 0x55ae6441ec53 <unknown>\n#11 0x55ae643efdb3 <unknown>\n#12 0x55ae643f077e <unknown>\n#13 0x55ae6467f7cb <unknown>\n#14 0x55ae646837e5 <unknown>\n#15 0x55ae6466d0e1 <unknown>\n#16 0x55ae64684372 <unknown>\n#17 0x55ae646511bf <unknown>\n#18 0x55ae646a8488 <unknown>\n#19 0x55ae646a8683 <unknown>\n#20 0x55ae646b9044 <unknown>\n#21 0x7fbbf4c94ac3 <unknown>\n"
     ]
    }
   ],
   "source": [
    "import time\n",
    "title_list = []\n",
    "epi_len = []\n",
    "for i in range(len(info_list)-1):\n",
    "    info_list[i+1].click()\n",
    "    time.sleep(0.5)\n",
    "    title = episode.find_elements(By.CLASS_NAME,\"ipc-title__text\")\n",
    "    time.sleep(0.5)\n",
    "    epi_len.append(len(title))\n",
    "    for t in title:\n",
    "        title_list.append(t.text)\n",
    "len(info_list), len(epi_len), len(title_list)"
   ]
  },
  {
   "cell_type": "code",
   "execution_count": 31,
   "metadata": {},
   "outputs": [
    {
     "data": {
      "text/plain": [
       "(['S1.E1 ∙ Pilot',\n",
       "  'S1.E2 ∙ The Big Bran Hypothesis',\n",
       "  'S1.E3 ∙ The Fuzzy Boots Corollary',\n",
       "  'S1.E4 ∙ The Luminous Fish Effect',\n",
       "  'S1.E5 ∙ The Hamburger Postulate',\n",
       "  'S1.E6 ∙ The Middle Earth Paradigm',\n",
       "  'S1.E7 ∙ The Dumpling Paradox',\n",
       "  'S1.E8 ∙ The Grasshopper Experiment',\n",
       "  'S1.E9 ∙ The Cooper-Hofstadter Polarization',\n",
       "  'S1.E10 ∙ The Loobenfeld Decay',\n",
       "  'S1.E11 ∙ The Pancake Batter Anomaly',\n",
       "  'S1.E12 ∙ The Jerusalem Duality',\n",
       "  'S1.E13 ∙ The Bat Jar Conjecture',\n",
       "  'S1.E14 ∙ The Nerdvana Annihilation',\n",
       "  'S1.E15 ∙ The Pork Chop Indeterminacy',\n",
       "  'S1.E16 ∙ The Peanut Reaction',\n",
       "  'S1.E17 ∙ The Tangerine Factor'],\n",
       " 17)"
      ]
     },
     "execution_count": 31,
     "metadata": {},
     "output_type": "execute_result"
    }
   ],
   "source": [
    "s1_list=[]\n",
    "time.sleep(0.5)\n",
    "title_s1 = episode.find_elements(By.CLASS_NAME,\"ipc-title__text\")\n",
    "time.sleep(0.5)\n",
    "for t in title_s1:\n",
    "    s1_list.append(t.text)\n",
    "len_s1 = len(title_s1)\n",
    "\n",
    "s1_list , len_s1"
   ]
  },
  {
   "cell_type": "code",
   "execution_count": 16,
   "metadata": {},
   "outputs": [
    {
     "data": {
      "text/plain": [
       "[]"
      ]
     },
     "execution_count": 16,
     "metadata": {},
     "output_type": "execute_result"
    }
   ],
   "source": [
    "title_list"
   ]
  },
  {
   "cell_type": "code",
   "execution_count": 136,
   "metadata": {},
   "outputs": [
    {
     "data": {
      "text/plain": [
       "280"
      ]
     },
     "execution_count": 136,
     "metadata": {},
     "output_type": "execute_result"
    }
   ],
   "source": [
    "title_list_final = s1_list + title_list\n",
    "len(title_list_final)"
   ]
  },
  {
   "cell_type": "code",
   "execution_count": 137,
   "metadata": {},
   "outputs": [
    {
     "data": {
      "text/plain": [
       "[17, 23, 23, 24, 24, 24, 24, 24, 24, 24, 24, 24, 1]"
      ]
     },
     "execution_count": 137,
     "metadata": {},
     "output_type": "execute_result"
    }
   ],
   "source": [
    "epi_len.insert(0,len_s1)\n",
    "epi_len"
   ]
  },
  {
   "cell_type": "code",
   "execution_count": 130,
   "metadata": {},
   "outputs": [
    {
     "name": "stdout",
     "output_type": "stream",
     "text": [
      "S2.E1 ∙ The Bad Fish Paradigm\n",
      "S2.E2 ∙ The Codpiece Topology\n",
      "S2.E3 ∙ The Barbarian Sublimation\n",
      "S2.E4 ∙ The Griffin Equivalency\n",
      "S2.E5 ∙ The Euclid Alternative\n",
      "S2.E6 ∙ The Cooper-Nowitzki Theorem\n",
      "S2.E7 ∙ The Panty Piñata Polarization\n",
      "S2.E8 ∙ The Lizard-Spock Expansion\n",
      "S2.E9 ∙ The White Asparagus Triangulation\n",
      "S2.E10 ∙ The Vartabedian Conundrum\n",
      "S2.E11 ∙ The Bath Item Gift Hypothesis\n",
      "S2.E12 ∙ The Killer Robot Instability\n",
      "S2.E13 ∙ The Friendship Algorithm\n",
      "S2.E14 ∙ The Financial Permeability\n",
      "S2.E15 ∙ The Maternal Capacitance\n",
      "S2.E16 ∙ The Cushion Saturation\n",
      "S2.E17 ∙ The Terminator Decoupling\n",
      "S2.E18 ∙ The Work Song Nanocluster\n",
      "S2.E19 ∙ The Dead Hooker Juxtaposition\n",
      "S2.E20 ∙ The Hofstadter Isotope\n",
      "S2.E21 ∙ The Vegas Renormalization\n",
      "S2.E22 ∙ The Classified Materials Turbulence\n",
      "S2.E23 ∙ The Monopolar Expedition\n",
      "S3.E1 ∙ The Electric Can Opener Fluctuation\n",
      "S3.E2 ∙ The Jiminy Conjecture\n",
      "S3.E3 ∙ The Gothowitz Deviation\n",
      "S3.E4 ∙ The Pirate Solution\n",
      "S3.E5 ∙ The Creepy Candy Coating Corollary\n",
      "S3.E6 ∙ The Cornhusker Vortex\n",
      "S3.E7 ∙ The Guitarist Amplification\n",
      "S3.E8 ∙ The Adhesive Duck Deficiency\n",
      "S3.E9 ∙ The Vengeance Formulation\n",
      "S3.E10 ∙ The Gorilla Experiment\n",
      "S3.E11 ∙ The Maternal Congruence\n",
      "S3.E12 ∙ The Psychic Vortex\n",
      "S3.E13 ∙ The Bozeman Reaction\n",
      "S3.E14 ∙ The Einstein Approximation\n",
      "S3.E15 ∙ The Large Hadron Collision\n",
      "S3.E16 ∙ The Excelsior Acquisition\n",
      "S3.E17 ∙ The Precious Fragmentation\n",
      "S3.E18 ∙ The Pants Alternative\n",
      "S3.E19 ∙ The Wheaton Recurrence\n",
      "S3.E20 ∙ The Spaghetti Catalyst\n",
      "S3.E21 ∙ The Plimpton Stimulation\n",
      "S3.E22 ∙ The Staircase Implementation\n",
      "S3.E23 ∙ The Lunar Excitation\n",
      "S4.E1 ∙ The Robotic Manipulation\n",
      "S4.E2 ∙ The Cruciferous Vegetable Amplification\n",
      "S4.E3 ∙ The Zazzy Substitution\n",
      "S4.E4 ∙ The Hot Troll Deviation\n",
      "S4.E5 ∙ The Desperation Emanation\n",
      "S4.E6 ∙ The Irish Pub Formulation\n",
      "S4.E7 ∙ The Apology Insufficiency\n",
      "S4.E8 ∙ The 21-Second Excitation\n",
      "S4.E9 ∙ The Boyfriend Complexity\n",
      "S4.E10 ∙ The Alien Parasite Hypothesis\n",
      "S4.E11 ∙ The Justice League Recombination\n",
      "S4.E12 ∙ The Bus Pants Utilization\n",
      "S4.E13 ∙ The Love Car Displacement\n",
      "S4.E14 ∙ The Thespian Catalyst\n",
      "S4.E15 ∙ The Benefactor Factor\n",
      "S4.E16 ∙ The Cohabitation Formulation\n",
      "S4.E17 ∙ The Toast Derivation\n",
      "S4.E18 ∙ The Prestidigitation Approximation\n",
      "S4.E19 ∙ The Zarnecki Incursion\n",
      "S4.E20 ∙ The Herb Garden Germination\n",
      "S4.E21 ∙ The Agreement Dissection\n",
      "S4.E22 ∙ The Wildebeest Implementation\n",
      "S4.E23 ∙ The Engagement Reaction\n",
      "S4.E24 ∙ The Roommate Transmogrification\n",
      "S5.E1 ∙ The Skank Reflex Analysis\n",
      "S5.E2 ∙ The Infestation Hypothesis\n",
      "S5.E3 ∙ The Pulled Groin Extrapolation\n",
      "S5.E4 ∙ The Wiggly Finger Catalyst\n",
      "S5.E5 ∙ The Russian Rocket Reaction\n",
      "S5.E6 ∙ The Rhinitis Revelation\n",
      "S5.E7 ∙ The Good Guy Fluctuation\n",
      "S5.E8 ∙ The Isolation Permutation\n",
      "S5.E9 ∙ The Ornithophobia Diffusion\n",
      "S5.E10 ∙ The Flaming Spittoon Acquisition\n",
      "S5.E11 ∙ The Speckerman Recurrence\n",
      "S5.E12 ∙ The Shiny Trinket Maneuver\n",
      "S5.E13 ∙ The Recombination Hypothesis\n",
      "S5.E14 ∙ The Beta Test Initiation\n",
      "S5.E15 ∙ The Friendship Contraction\n",
      "S5.E16 ∙ The Vacation Solution\n",
      "S5.E17 ∙ The Rothman Disintegration\n",
      "S5.E18 ∙ The Werewolf Transformation\n",
      "S5.E19 ∙ The Weekend Vortex\n",
      "S5.E20 ∙ The Transporter Malfunction\n",
      "S5.E21 ∙ The Hawking Excitation\n",
      "S5.E22 ∙ The Stag Convergence\n",
      "S5.E23 ∙ The Launch Acceleration\n",
      "S5.E24 ∙ The Countdown Reflection\n",
      "S6.E1 ∙ The Date Night Variable\n",
      "S6.E2 ∙ The Decoupling Fluctuation\n",
      "S6.E3 ∙ The Higgs Boson Observation\n",
      "S6.E4 ∙ The Re-Entry Minimization\n",
      "S6.E5 ∙ The Holographic Excitation\n",
      "S6.E6 ∙ The Extract Obliteration\n",
      "S6.E7 ∙ The Habitation Configuration\n",
      "S6.E8 ∙ The 43 Peculiarity\n",
      "S6.E9 ∙ The Parking Spot Escalation\n",
      "S6.E10 ∙ The Fish Guts Displacement\n",
      "S6.E11 ∙ The Santa Simulation\n",
      "S6.E12 ∙ The Egg Salad Equivalency\n",
      "S6.E13 ∙ The Bakersfield Expedition\n",
      "S6.E14 ∙ The Cooper/Kripke Inversion\n",
      "S6.E15 ∙ The Spoiler Alert Segmentation\n",
      "S6.E16 ∙ The Tangible Affection Proof\n",
      "S6.E17 ∙ The Monster Isolation\n",
      "S6.E18 ∙ The Contractual Obligation Implementation\n",
      "S6.E19 ∙ The Closet Reconfiguration\n",
      "S6.E20 ∙ The Tenure Turbulence\n",
      "S6.E21 ∙ The Closure Alternative\n",
      "S6.E22 ∙ The Proton Resurgence\n",
      "S6.E23 ∙ The Love Spell Potential\n",
      "S6.E24 ∙ The Bon Voyage Reaction\n",
      "S7.E1 ∙ The Hofstadter Insufficiency\n",
      "S7.E2 ∙ The Deception Verification\n",
      "S7.E3 ∙ The Scavenger Vortex\n",
      "S7.E4 ∙ The Raiders Minimization\n",
      "S7.E5 ∙ The Workplace Proximity\n",
      "S7.E6 ∙ The Romance Resonance\n",
      "S7.E7 ∙ The Proton Displacement\n",
      "S7.E8 ∙ The Itchy Brain Simulation\n",
      "S7.E9 ∙ The Thanksgiving Decoupling\n",
      "S7.E10 ∙ The Discovery Dissipation\n",
      "S7.E11 ∙ The Cooper Extraction\n",
      "S7.E12 ∙ The Hesitation Ramification\n",
      "S7.E13 ∙ The Occupation Recalibration\n",
      "S7.E14 ∙ The Convention Conundrum\n",
      "S7.E15 ∙ The Locomotive Manipulation\n",
      "S7.E16 ∙ The Table Polarization\n",
      "S7.E17 ∙ The Friendship Turbulence\n",
      "S7.E18 ∙ The Mommy Observation\n",
      "S7.E19 ∙ The Indecision Amalgamation\n",
      "S7.E20 ∙ The Relationship Diremption\n",
      "S7.E21 ∙ The Anything Can Happen Recurrence\n",
      "S7.E22 ∙ The Proton Transmogrification\n",
      "S7.E23 ∙ The Gorilla Dissolution\n",
      "S7.E24 ∙ The Status Quo Combustion\n",
      "S8.E1 ∙ The Locomotion Interruption\n",
      "S8.E2 ∙ The Junior Professor Solution\n",
      "S8.E3 ∙ The First Pitch Insufficiency\n",
      "S8.E4 ∙ The Hook-up Reverberation\n",
      "S8.E5 ∙ The Focus Attenuation\n",
      "S8.E6 ∙ The Expedition Approximation\n",
      "S8.E7 ∙ The Misinterpretation Agitation\n",
      "S8.E8 ∙ The Prom Equivalency\n",
      "S8.E9 ∙ The Septum Deviation\n",
      "S8.E10 ∙ The Champagne Reflection\n",
      "S8.E11 ∙ The Clean Room Infiltration\n",
      "S8.E12 ∙ The Space Probe Disintegration\n",
      "S8.E13 ∙ The Anxiety Optimization\n",
      "S8.E14 ∙ The Troll Manifestation\n",
      "S8.E15 ∙ The Comic Book Store Regeneration\n",
      "S8.E16 ∙ The Intimacy Acceleration\n",
      "S8.E17 ∙ The Colonization Application\n",
      "S8.E18 ∙ The Leftover Thermalization\n",
      "S8.E19 ∙ The Skywalker Incursion\n",
      "S8.E20 ∙ The Fortification Implementation\n",
      "S8.E21 ∙ The Communication Deterioration\n",
      "S8.E22 ∙ The Graduation Transmission\n",
      "S8.E23 ∙ The Maternal Combustion\n",
      "S8.E24 ∙ The Commitment Determination\n",
      "S9.E1 ∙ The Matrimonial Momentum\n",
      "S9.E2 ∙ The Separation Oscillation\n",
      "S9.E3 ∙ The Bachelor Party Corrosion\n",
      "S9.E4 ∙ The 2003 Approximation\n",
      "S9.E5 ∙ The Perspiration Implementation\n",
      "S9.E6 ∙ The Helium Insufficiency\n",
      "S9.E7 ∙ The Spock Resonance\n",
      "S9.E8 ∙ The Mystery Date Observation\n",
      "S9.E9 ∙ The Platonic Permutation\n",
      "S9.E10 ∙ The Earworm Reverberation\n",
      "S9.E11 ∙ The Opening Night Excitation\n",
      "S9.E12 ∙ The Sales Call Sublimation\n",
      "S9.E13 ∙ The Empathy Optimization\n",
      "S9.E14 ∙ The Meemaw Materialization\n",
      "S9.E15 ∙ The Valentino Submergence\n",
      "S9.E16 ∙ The Positive Negative Reaction\n",
      "S9.E17 ∙ The Celebration Experimentation\n",
      "S9.E18 ∙ The Application Deterioration\n",
      "S9.E19 ∙ The Solder Excursion Diversion\n",
      "S9.E20 ∙ The Big Bear Precipitation\n",
      "S9.E21 ∙ The Viewing Party Combustion\n",
      "S9.E22 ∙ The Fermentation Bifurcation\n",
      "S9.E23 ∙ The Line Substitution Solution\n",
      "S9.E24 ∙ The Convergence Convergence\n",
      "S10.E1 ∙ The Conjugal Conjecture\n",
      "S10.E2 ∙ The Military Miniaturization\n",
      "S10.E3 ∙ The Dependence Transcendence\n",
      "S10.E4 ∙ The Cohabitation Experimentation\n",
      "S10.E5 ∙ The Hot Tub Contamination\n",
      "S10.E6 ∙ The Fetal Kick Catalyst\n",
      "S10.E7 ∙ The Veracity Elasticity\n",
      "S10.E8 ∙ The Brain Bowl Incubation\n",
      "S10.E9 ∙ The Geology Elevation\n",
      "S10.E10 ∙ The Property Division Collision\n",
      "S10.E11 ∙ The Birthday Synchronicity\n",
      "S10.E12 ∙ The Holiday Summation\n",
      "S10.E13 ∙ The Romance Recalibration\n",
      "S10.E14 ∙ The Emotion Detection Automation\n",
      "S10.E15 ∙ The Locomotion Reverberation\n",
      "S10.E16 ∙ The Allowance Evaporation\n",
      "S10.E17 ∙ The Comic-Con Conundrum\n",
      "S10.E18 ∙ The Escape Hatch Identification\n",
      "S10.E19 ∙ The Collaboration Fluctuation\n",
      "S10.E20 ∙ The Recollection Dissipation\n",
      "S10.E21 ∙ The Separation Agitation\n",
      "S10.E22 ∙ The Cognition Regeneration\n",
      "S10.E23 ∙ The Gyroscopic Collapse\n",
      "S10.E24 ∙ The Long Distance Dissonance\n",
      "S11.E1 ∙ The Proposal Proposal\n",
      "S11.E2 ∙ The Retraction Reaction\n",
      "S11.E3 ∙ The Relaxation Integration\n",
      "S11.E4 ∙ The Explosion Implosion\n",
      "S11.E5 ∙ The Collaboration Contamination\n",
      "S11.E6 ∙ The Proton Regeneration\n",
      "S11.E7 ∙ The Geology Methodology\n",
      "S11.E8 ∙ The Tesla Recoil\n",
      "S11.E9 ∙ The Bitcoin Entanglement\n",
      "S11.E10 ∙ The Confidence Erosion\n",
      "S11.E11 ∙ The Celebration Reverberation\n",
      "S11.E12 ∙ The Matrimonial Metric\n",
      "S11.E13 ∙ The Solo Oscillation\n",
      "S11.E14 ∙ The Separation Triangulation\n",
      "S11.E15 ∙ The Novelization Correlation\n",
      "S11.E16 ∙ The Neonatal Nomenclature\n",
      "S11.E17 ∙ The Athenaeum Allocation\n",
      "S11.E18 ∙ The Gates Excitation\n",
      "S11.E19 ∙ The Tenant Disassociation\n",
      "S11.E20 ∙ The Reclusive Potential\n",
      "S11.E21 ∙ The Comet Polarization\n",
      "S11.E22 ∙ The Monetary Insufficiency\n",
      "S11.E23 ∙ The Sibling Realignment\n",
      "S11.E24 ∙ The Bow Tie Asymmetry\n",
      "S12.E1 ∙ The Conjugal Configuration\n",
      "S12.E2 ∙ The Wedding Gift Wormhole\n",
      "S12.E3 ∙ The Procreation Calculation\n",
      "S12.E4 ∙ The Tam Turbulence\n",
      "S12.E5 ∙ The Planetarium Collision\n",
      "S12.E6 ∙ The Imitation Perturbation\n",
      "S12.E7 ∙ The Grant Allocation Derivation\n",
      "S12.E8 ∙ The Consummation Deviation\n",
      "S12.E9 ∙ The Citation Negation\n",
      "S12.E10 ∙ The VCR Illumination\n",
      "S12.E11 ∙ The Paintball Scattering\n",
      "S12.E12 ∙ The Propagation Proposition\n",
      "S12.E13 ∙ The Confirmation Polarization\n",
      "S12.E14 ∙ The Meteorite Manifestation\n",
      "S12.E15 ∙ The Donation Oscillation\n",
      "S12.E16 ∙ The D & D Vortex\n",
      "S12.E17 ∙ The Conference Valuation\n",
      "S12.E18 ∙ The Laureate Accumulation\n",
      "S12.E19 ∙ The Inspiration Deprivation\n",
      "S12.E20 ∙ The Decision Reverberation\n",
      "S12.E21 ∙ The Plagiarism Schism\n",
      "S12.E22 ∙ The Maternal Conclusion\n",
      "S12.E23 ∙ The Change Constant\n",
      "S12.E24 ∙ The Stockholm Syndrome\n",
      "Unaired Pilot\n"
     ]
    }
   ],
   "source": [
    "#시즌별 에피소드 수 \n",
    "for title in title_list:\n",
    "        print(title)"
   ]
  },
  {
   "cell_type": "code",
   "execution_count": 131,
   "metadata": {},
   "outputs": [
    {
     "name": "stdout",
     "output_type": "stream",
     "text": [
      "['S2.E1', '∙', 'The', 'Bad', 'Fish', 'Paradigm']\n",
      "['S2.E2', '∙', 'The', 'Codpiece', 'Topology']\n",
      "['S2.E3', '∙', 'The', 'Barbarian', 'Sublimation']\n",
      "['S2.E4', '∙', 'The', 'Griffin', 'Equivalency']\n",
      "['S2.E5', '∙', 'The', 'Euclid', 'Alternative']\n",
      "['S2.E6', '∙', 'The', 'Cooper-Nowitzki', 'Theorem']\n",
      "['S2.E7', '∙', 'The', 'Panty', 'Piñata', 'Polarization']\n",
      "['S2.E8', '∙', 'The', 'Lizard-Spock', 'Expansion']\n",
      "['S2.E9', '∙', 'The', 'White', 'Asparagus', 'Triangulation']\n",
      "['S2.E10', '∙', 'The', 'Vartabedian', 'Conundrum']\n",
      "['S2.E11', '∙', 'The', 'Bath', 'Item', 'Gift', 'Hypothesis']\n",
      "['S2.E12', '∙', 'The', 'Killer', 'Robot', 'Instability']\n",
      "['S2.E13', '∙', 'The', 'Friendship', 'Algorithm']\n",
      "['S2.E14', '∙', 'The', 'Financial', 'Permeability']\n",
      "['S2.E15', '∙', 'The', 'Maternal', 'Capacitance']\n",
      "['S2.E16', '∙', 'The', 'Cushion', 'Saturation']\n",
      "['S2.E17', '∙', 'The', 'Terminator', 'Decoupling']\n",
      "['S2.E18', '∙', 'The', 'Work', 'Song', 'Nanocluster']\n",
      "['S2.E19', '∙', 'The', 'Dead', 'Hooker', 'Juxtaposition']\n",
      "['S2.E20', '∙', 'The', 'Hofstadter', 'Isotope']\n",
      "['S2.E21', '∙', 'The', 'Vegas', 'Renormalization']\n",
      "['S2.E22', '∙', 'The', 'Classified', 'Materials', 'Turbulence']\n",
      "['S2.E23', '∙', 'The', 'Monopolar', 'Expedition']\n",
      "['S3.E1', '∙', 'The', 'Electric', 'Can', 'Opener', 'Fluctuation']\n",
      "['S3.E2', '∙', 'The', 'Jiminy', 'Conjecture']\n",
      "['S3.E3', '∙', 'The', 'Gothowitz', 'Deviation']\n",
      "['S3.E4', '∙', 'The', 'Pirate', 'Solution']\n",
      "['S3.E5', '∙', 'The', 'Creepy', 'Candy', 'Coating', 'Corollary']\n",
      "['S3.E6', '∙', 'The', 'Cornhusker', 'Vortex']\n",
      "['S3.E7', '∙', 'The', 'Guitarist', 'Amplification']\n",
      "['S3.E8', '∙', 'The', 'Adhesive', 'Duck', 'Deficiency']\n",
      "['S3.E9', '∙', 'The', 'Vengeance', 'Formulation']\n",
      "['S3.E10', '∙', 'The', 'Gorilla', 'Experiment']\n",
      "['S3.E11', '∙', 'The', 'Maternal', 'Congruence']\n",
      "['S3.E12', '∙', 'The', 'Psychic', 'Vortex']\n",
      "['S3.E13', '∙', 'The', 'Bozeman', 'Reaction']\n",
      "['S3.E14', '∙', 'The', 'Einstein', 'Approximation']\n",
      "['S3.E15', '∙', 'The', 'Large', 'Hadron', 'Collision']\n",
      "['S3.E16', '∙', 'The', 'Excelsior', 'Acquisition']\n",
      "['S3.E17', '∙', 'The', 'Precious', 'Fragmentation']\n",
      "['S3.E18', '∙', 'The', 'Pants', 'Alternative']\n",
      "['S3.E19', '∙', 'The', 'Wheaton', 'Recurrence']\n",
      "['S3.E20', '∙', 'The', 'Spaghetti', 'Catalyst']\n",
      "['S3.E21', '∙', 'The', 'Plimpton', 'Stimulation']\n",
      "['S3.E22', '∙', 'The', 'Staircase', 'Implementation']\n",
      "['S3.E23', '∙', 'The', 'Lunar', 'Excitation']\n",
      "['S4.E1', '∙', 'The', 'Robotic', 'Manipulation']\n",
      "['S4.E2', '∙', 'The', 'Cruciferous', 'Vegetable', 'Amplification']\n",
      "['S4.E3', '∙', 'The', 'Zazzy', 'Substitution']\n",
      "['S4.E4', '∙', 'The', 'Hot', 'Troll', 'Deviation']\n",
      "['S4.E5', '∙', 'The', 'Desperation', 'Emanation']\n",
      "['S4.E6', '∙', 'The', 'Irish', 'Pub', 'Formulation']\n",
      "['S4.E7', '∙', 'The', 'Apology', 'Insufficiency']\n",
      "['S4.E8', '∙', 'The', '21-Second', 'Excitation']\n",
      "['S4.E9', '∙', 'The', 'Boyfriend', 'Complexity']\n",
      "['S4.E10', '∙', 'The', 'Alien', 'Parasite', 'Hypothesis']\n",
      "['S4.E11', '∙', 'The', 'Justice', 'League', 'Recombination']\n",
      "['S4.E12', '∙', 'The', 'Bus', 'Pants', 'Utilization']\n",
      "['S4.E13', '∙', 'The', 'Love', 'Car', 'Displacement']\n",
      "['S4.E14', '∙', 'The', 'Thespian', 'Catalyst']\n",
      "['S4.E15', '∙', 'The', 'Benefactor', 'Factor']\n",
      "['S4.E16', '∙', 'The', 'Cohabitation', 'Formulation']\n",
      "['S4.E17', '∙', 'The', 'Toast', 'Derivation']\n",
      "['S4.E18', '∙', 'The', 'Prestidigitation', 'Approximation']\n",
      "['S4.E19', '∙', 'The', 'Zarnecki', 'Incursion']\n",
      "['S4.E20', '∙', 'The', 'Herb', 'Garden', 'Germination']\n",
      "['S4.E21', '∙', 'The', 'Agreement', 'Dissection']\n",
      "['S4.E22', '∙', 'The', 'Wildebeest', 'Implementation']\n",
      "['S4.E23', '∙', 'The', 'Engagement', 'Reaction']\n",
      "['S4.E24', '∙', 'The', 'Roommate', 'Transmogrification']\n",
      "['S5.E1', '∙', 'The', 'Skank', 'Reflex', 'Analysis']\n",
      "['S5.E2', '∙', 'The', 'Infestation', 'Hypothesis']\n",
      "['S5.E3', '∙', 'The', 'Pulled', 'Groin', 'Extrapolation']\n",
      "['S5.E4', '∙', 'The', 'Wiggly', 'Finger', 'Catalyst']\n",
      "['S5.E5', '∙', 'The', 'Russian', 'Rocket', 'Reaction']\n",
      "['S5.E6', '∙', 'The', 'Rhinitis', 'Revelation']\n",
      "['S5.E7', '∙', 'The', 'Good', 'Guy', 'Fluctuation']\n",
      "['S5.E8', '∙', 'The', 'Isolation', 'Permutation']\n",
      "['S5.E9', '∙', 'The', 'Ornithophobia', 'Diffusion']\n",
      "['S5.E10', '∙', 'The', 'Flaming', 'Spittoon', 'Acquisition']\n",
      "['S5.E11', '∙', 'The', 'Speckerman', 'Recurrence']\n",
      "['S5.E12', '∙', 'The', 'Shiny', 'Trinket', 'Maneuver']\n",
      "['S5.E13', '∙', 'The', 'Recombination', 'Hypothesis']\n",
      "['S5.E14', '∙', 'The', 'Beta', 'Test', 'Initiation']\n",
      "['S5.E15', '∙', 'The', 'Friendship', 'Contraction']\n",
      "['S5.E16', '∙', 'The', 'Vacation', 'Solution']\n",
      "['S5.E17', '∙', 'The', 'Rothman', 'Disintegration']\n",
      "['S5.E18', '∙', 'The', 'Werewolf', 'Transformation']\n",
      "['S5.E19', '∙', 'The', 'Weekend', 'Vortex']\n",
      "['S5.E20', '∙', 'The', 'Transporter', 'Malfunction']\n",
      "['S5.E21', '∙', 'The', 'Hawking', 'Excitation']\n",
      "['S5.E22', '∙', 'The', 'Stag', 'Convergence']\n",
      "['S5.E23', '∙', 'The', 'Launch', 'Acceleration']\n",
      "['S5.E24', '∙', 'The', 'Countdown', 'Reflection']\n",
      "['S6.E1', '∙', 'The', 'Date', 'Night', 'Variable']\n",
      "['S6.E2', '∙', 'The', 'Decoupling', 'Fluctuation']\n",
      "['S6.E3', '∙', 'The', 'Higgs', 'Boson', 'Observation']\n",
      "['S6.E4', '∙', 'The', 'Re-Entry', 'Minimization']\n",
      "['S6.E5', '∙', 'The', 'Holographic', 'Excitation']\n",
      "['S6.E6', '∙', 'The', 'Extract', 'Obliteration']\n",
      "['S6.E7', '∙', 'The', 'Habitation', 'Configuration']\n",
      "['S6.E8', '∙', 'The', '43', 'Peculiarity']\n",
      "['S6.E9', '∙', 'The', 'Parking', 'Spot', 'Escalation']\n",
      "['S6.E10', '∙', 'The', 'Fish', 'Guts', 'Displacement']\n",
      "['S6.E11', '∙', 'The', 'Santa', 'Simulation']\n",
      "['S6.E12', '∙', 'The', 'Egg', 'Salad', 'Equivalency']\n",
      "['S6.E13', '∙', 'The', 'Bakersfield', 'Expedition']\n",
      "['S6.E14', '∙', 'The', 'Cooper/Kripke', 'Inversion']\n",
      "['S6.E15', '∙', 'The', 'Spoiler', 'Alert', 'Segmentation']\n",
      "['S6.E16', '∙', 'The', 'Tangible', 'Affection', 'Proof']\n",
      "['S6.E17', '∙', 'The', 'Monster', 'Isolation']\n",
      "['S6.E18', '∙', 'The', 'Contractual', 'Obligation', 'Implementation']\n",
      "['S6.E19', '∙', 'The', 'Closet', 'Reconfiguration']\n",
      "['S6.E20', '∙', 'The', 'Tenure', 'Turbulence']\n",
      "['S6.E21', '∙', 'The', 'Closure', 'Alternative']\n",
      "['S6.E22', '∙', 'The', 'Proton', 'Resurgence']\n",
      "['S6.E23', '∙', 'The', 'Love', 'Spell', 'Potential']\n",
      "['S6.E24', '∙', 'The', 'Bon', 'Voyage', 'Reaction']\n",
      "['S7.E1', '∙', 'The', 'Hofstadter', 'Insufficiency']\n",
      "['S7.E2', '∙', 'The', 'Deception', 'Verification']\n",
      "['S7.E3', '∙', 'The', 'Scavenger', 'Vortex']\n",
      "['S7.E4', '∙', 'The', 'Raiders', 'Minimization']\n",
      "['S7.E5', '∙', 'The', 'Workplace', 'Proximity']\n",
      "['S7.E6', '∙', 'The', 'Romance', 'Resonance']\n",
      "['S7.E7', '∙', 'The', 'Proton', 'Displacement']\n",
      "['S7.E8', '∙', 'The', 'Itchy', 'Brain', 'Simulation']\n",
      "['S7.E9', '∙', 'The', 'Thanksgiving', 'Decoupling']\n",
      "['S7.E10', '∙', 'The', 'Discovery', 'Dissipation']\n",
      "['S7.E11', '∙', 'The', 'Cooper', 'Extraction']\n",
      "['S7.E12', '∙', 'The', 'Hesitation', 'Ramification']\n",
      "['S7.E13', '∙', 'The', 'Occupation', 'Recalibration']\n",
      "['S7.E14', '∙', 'The', 'Convention', 'Conundrum']\n",
      "['S7.E15', '∙', 'The', 'Locomotive', 'Manipulation']\n",
      "['S7.E16', '∙', 'The', 'Table', 'Polarization']\n",
      "['S7.E17', '∙', 'The', 'Friendship', 'Turbulence']\n",
      "['S7.E18', '∙', 'The', 'Mommy', 'Observation']\n",
      "['S7.E19', '∙', 'The', 'Indecision', 'Amalgamation']\n",
      "['S7.E20', '∙', 'The', 'Relationship', 'Diremption']\n",
      "['S7.E21', '∙', 'The', 'Anything', 'Can', 'Happen', 'Recurrence']\n",
      "['S7.E22', '∙', 'The', 'Proton', 'Transmogrification']\n",
      "['S7.E23', '∙', 'The', 'Gorilla', 'Dissolution']\n",
      "['S7.E24', '∙', 'The', 'Status', 'Quo', 'Combustion']\n",
      "['S8.E1', '∙', 'The', 'Locomotion', 'Interruption']\n",
      "['S8.E2', '∙', 'The', 'Junior', 'Professor', 'Solution']\n",
      "['S8.E3', '∙', 'The', 'First', 'Pitch', 'Insufficiency']\n",
      "['S8.E4', '∙', 'The', 'Hook-up', 'Reverberation']\n",
      "['S8.E5', '∙', 'The', 'Focus', 'Attenuation']\n",
      "['S8.E6', '∙', 'The', 'Expedition', 'Approximation']\n",
      "['S8.E7', '∙', 'The', 'Misinterpretation', 'Agitation']\n",
      "['S8.E8', '∙', 'The', 'Prom', 'Equivalency']\n",
      "['S8.E9', '∙', 'The', 'Septum', 'Deviation']\n",
      "['S8.E10', '∙', 'The', 'Champagne', 'Reflection']\n",
      "['S8.E11', '∙', 'The', 'Clean', 'Room', 'Infiltration']\n",
      "['S8.E12', '∙', 'The', 'Space', 'Probe', 'Disintegration']\n",
      "['S8.E13', '∙', 'The', 'Anxiety', 'Optimization']\n",
      "['S8.E14', '∙', 'The', 'Troll', 'Manifestation']\n",
      "['S8.E15', '∙', 'The', 'Comic', 'Book', 'Store', 'Regeneration']\n",
      "['S8.E16', '∙', 'The', 'Intimacy', 'Acceleration']\n",
      "['S8.E17', '∙', 'The', 'Colonization', 'Application']\n",
      "['S8.E18', '∙', 'The', 'Leftover', 'Thermalization']\n",
      "['S8.E19', '∙', 'The', 'Skywalker', 'Incursion']\n",
      "['S8.E20', '∙', 'The', 'Fortification', 'Implementation']\n",
      "['S8.E21', '∙', 'The', 'Communication', 'Deterioration']\n",
      "['S8.E22', '∙', 'The', 'Graduation', 'Transmission']\n",
      "['S8.E23', '∙', 'The', 'Maternal', 'Combustion']\n",
      "['S8.E24', '∙', 'The', 'Commitment', 'Determination']\n",
      "['S9.E1', '∙', 'The', 'Matrimonial', 'Momentum']\n",
      "['S9.E2', '∙', 'The', 'Separation', 'Oscillation']\n",
      "['S9.E3', '∙', 'The', 'Bachelor', 'Party', 'Corrosion']\n",
      "['S9.E4', '∙', 'The', '2003', 'Approximation']\n",
      "['S9.E5', '∙', 'The', 'Perspiration', 'Implementation']\n",
      "['S9.E6', '∙', 'The', 'Helium', 'Insufficiency']\n",
      "['S9.E7', '∙', 'The', 'Spock', 'Resonance']\n",
      "['S9.E8', '∙', 'The', 'Mystery', 'Date', 'Observation']\n",
      "['S9.E9', '∙', 'The', 'Platonic', 'Permutation']\n",
      "['S9.E10', '∙', 'The', 'Earworm', 'Reverberation']\n",
      "['S9.E11', '∙', 'The', 'Opening', 'Night', 'Excitation']\n",
      "['S9.E12', '∙', 'The', 'Sales', 'Call', 'Sublimation']\n",
      "['S9.E13', '∙', 'The', 'Empathy', 'Optimization']\n",
      "['S9.E14', '∙', 'The', 'Meemaw', 'Materialization']\n",
      "['S9.E15', '∙', 'The', 'Valentino', 'Submergence']\n",
      "['S9.E16', '∙', 'The', 'Positive', 'Negative', 'Reaction']\n",
      "['S9.E17', '∙', 'The', 'Celebration', 'Experimentation']\n",
      "['S9.E18', '∙', 'The', 'Application', 'Deterioration']\n",
      "['S9.E19', '∙', 'The', 'Solder', 'Excursion', 'Diversion']\n",
      "['S9.E20', '∙', 'The', 'Big', 'Bear', 'Precipitation']\n",
      "['S9.E21', '∙', 'The', 'Viewing', 'Party', 'Combustion']\n",
      "['S9.E22', '∙', 'The', 'Fermentation', 'Bifurcation']\n",
      "['S9.E23', '∙', 'The', 'Line', 'Substitution', 'Solution']\n",
      "['S9.E24', '∙', 'The', 'Convergence', 'Convergence']\n",
      "['S10.E1', '∙', 'The', 'Conjugal', 'Conjecture']\n",
      "['S10.E2', '∙', 'The', 'Military', 'Miniaturization']\n",
      "['S10.E3', '∙', 'The', 'Dependence', 'Transcendence']\n",
      "['S10.E4', '∙', 'The', 'Cohabitation', 'Experimentation']\n",
      "['S10.E5', '∙', 'The', 'Hot', 'Tub', 'Contamination']\n",
      "['S10.E6', '∙', 'The', 'Fetal', 'Kick', 'Catalyst']\n",
      "['S10.E7', '∙', 'The', 'Veracity', 'Elasticity']\n",
      "['S10.E8', '∙', 'The', 'Brain', 'Bowl', 'Incubation']\n",
      "['S10.E9', '∙', 'The', 'Geology', 'Elevation']\n",
      "['S10.E10', '∙', 'The', 'Property', 'Division', 'Collision']\n",
      "['S10.E11', '∙', 'The', 'Birthday', 'Synchronicity']\n",
      "['S10.E12', '∙', 'The', 'Holiday', 'Summation']\n",
      "['S10.E13', '∙', 'The', 'Romance', 'Recalibration']\n",
      "['S10.E14', '∙', 'The', 'Emotion', 'Detection', 'Automation']\n",
      "['S10.E15', '∙', 'The', 'Locomotion', 'Reverberation']\n",
      "['S10.E16', '∙', 'The', 'Allowance', 'Evaporation']\n",
      "['S10.E17', '∙', 'The', 'Comic-Con', 'Conundrum']\n",
      "['S10.E18', '∙', 'The', 'Escape', 'Hatch', 'Identification']\n",
      "['S10.E19', '∙', 'The', 'Collaboration', 'Fluctuation']\n",
      "['S10.E20', '∙', 'The', 'Recollection', 'Dissipation']\n",
      "['S10.E21', '∙', 'The', 'Separation', 'Agitation']\n",
      "['S10.E22', '∙', 'The', 'Cognition', 'Regeneration']\n",
      "['S10.E23', '∙', 'The', 'Gyroscopic', 'Collapse']\n",
      "['S10.E24', '∙', 'The', 'Long', 'Distance', 'Dissonance']\n",
      "['S11.E1', '∙', 'The', 'Proposal', 'Proposal']\n",
      "['S11.E2', '∙', 'The', 'Retraction', 'Reaction']\n",
      "['S11.E3', '∙', 'The', 'Relaxation', 'Integration']\n",
      "['S11.E4', '∙', 'The', 'Explosion', 'Implosion']\n",
      "['S11.E5', '∙', 'The', 'Collaboration', 'Contamination']\n",
      "['S11.E6', '∙', 'The', 'Proton', 'Regeneration']\n",
      "['S11.E7', '∙', 'The', 'Geology', 'Methodology']\n",
      "['S11.E8', '∙', 'The', 'Tesla', 'Recoil']\n",
      "['S11.E9', '∙', 'The', 'Bitcoin', 'Entanglement']\n",
      "['S11.E10', '∙', 'The', 'Confidence', 'Erosion']\n",
      "['S11.E11', '∙', 'The', 'Celebration', 'Reverberation']\n",
      "['S11.E12', '∙', 'The', 'Matrimonial', 'Metric']\n",
      "['S11.E13', '∙', 'The', 'Solo', 'Oscillation']\n",
      "['S11.E14', '∙', 'The', 'Separation', 'Triangulation']\n",
      "['S11.E15', '∙', 'The', 'Novelization', 'Correlation']\n",
      "['S11.E16', '∙', 'The', 'Neonatal', 'Nomenclature']\n",
      "['S11.E17', '∙', 'The', 'Athenaeum', 'Allocation']\n",
      "['S11.E18', '∙', 'The', 'Gates', 'Excitation']\n",
      "['S11.E19', '∙', 'The', 'Tenant', 'Disassociation']\n",
      "['S11.E20', '∙', 'The', 'Reclusive', 'Potential']\n",
      "['S11.E21', '∙', 'The', 'Comet', 'Polarization']\n",
      "['S11.E22', '∙', 'The', 'Monetary', 'Insufficiency']\n",
      "['S11.E23', '∙', 'The', 'Sibling', 'Realignment']\n",
      "['S11.E24', '∙', 'The', 'Bow', 'Tie', 'Asymmetry']\n",
      "['S12.E1', '∙', 'The', 'Conjugal', 'Configuration']\n",
      "['S12.E2', '∙', 'The', 'Wedding', 'Gift', 'Wormhole']\n",
      "['S12.E3', '∙', 'The', 'Procreation', 'Calculation']\n",
      "['S12.E4', '∙', 'The', 'Tam', 'Turbulence']\n",
      "['S12.E5', '∙', 'The', 'Planetarium', 'Collision']\n",
      "['S12.E6', '∙', 'The', 'Imitation', 'Perturbation']\n",
      "['S12.E7', '∙', 'The', 'Grant', 'Allocation', 'Derivation']\n",
      "['S12.E8', '∙', 'The', 'Consummation', 'Deviation']\n",
      "['S12.E9', '∙', 'The', 'Citation', 'Negation']\n",
      "['S12.E10', '∙', 'The', 'VCR', 'Illumination']\n",
      "['S12.E11', '∙', 'The', 'Paintball', 'Scattering']\n",
      "['S12.E12', '∙', 'The', 'Propagation', 'Proposition']\n",
      "['S12.E13', '∙', 'The', 'Confirmation', 'Polarization']\n",
      "['S12.E14', '∙', 'The', 'Meteorite', 'Manifestation']\n",
      "['S12.E15', '∙', 'The', 'Donation', 'Oscillation']\n",
      "['S12.E16', '∙', 'The', 'D', '&', 'D', 'Vortex']\n",
      "['S12.E17', '∙', 'The', 'Conference', 'Valuation']\n",
      "['S12.E18', '∙', 'The', 'Laureate', 'Accumulation']\n",
      "['S12.E19', '∙', 'The', 'Inspiration', 'Deprivation']\n",
      "['S12.E20', '∙', 'The', 'Decision', 'Reverberation']\n",
      "['S12.E21', '∙', 'The', 'Plagiarism', 'Schism']\n",
      "['S12.E22', '∙', 'The', 'Maternal', 'Conclusion']\n",
      "['S12.E23', '∙', 'The', 'Change', 'Constant']\n",
      "['S12.E24', '∙', 'The', 'Stockholm', 'Syndrome']\n",
      "['Unaired', 'Pilot']\n",
      "263\n"
     ]
    }
   ],
   "source": [
    "for title in title_list:\n",
    "        print(title.split(' '))\n",
    "print(len(title_list))"
   ]
  },
  {
   "cell_type": "code",
   "execution_count": 51,
   "metadata": {},
   "outputs": [
    {
     "name": "stdout",
     "output_type": "stream",
     "text": [
      "0\n"
     ]
    }
   ],
   "source": [
    "rate_list = episode.find_elements(By.CLASS_NAME,\"ipc-rating-star ipc-rating-star--base ipc-rating-star--imdb ratingGroup--imdb-rating\")\n",
    "print(len(rate_list))\n",
    "for rate in rate_list:\n",
    "    print(rate.text)"
   ]
  },
  {
   "cell_type": "code",
   "execution_count": 140,
   "metadata": {},
   "outputs": [
    {
     "name": "stdout",
     "output_type": "stream",
     "text": [
      "0 ----- 2006\n",
      "1 ----- 2007\n",
      "2 ----- 2008\n",
      "3 ----- 2009\n",
      "4 ----- 2010\n",
      "5 ----- 2011\n",
      "6 ----- 2012\n",
      "7 ----- 2013\n",
      "8 ----- 2014\n",
      "9 ----- 2015\n",
      "10 ----- 2016\n",
      "11 ----- 2017\n",
      "12 ----- 2018\n",
      "13 ----- 2019\n"
     ]
    }
   ],
   "source": [
    "year_info = episode.find_element(By.XPATH, '''//*[@id=\"__next\"]/main/div/section/div/section/div/div[1]/section[2]/section[1]/div[2]/ul''')\n",
    "info_year = year_info.find_elements(By.TAG_NAME, \"a\")\n",
    "for i in range(len(info_year)):\n",
    "    print(str(i)+\" ----- \"+info_year[i].text)\n"
   ]
  },
  {
   "cell_type": "markdown",
   "metadata": {},
   "source": [
    "#### 숫자바가 시즌,연도,조회수 순 모두 같은 Xpath라는 점 발견 !\n",
    "\n",
    "//*[@id=\"__next\"]/main/div/section/div/section/div/div[1]/section[2]/section[1]/div[2]/ul\n",
    "\n",
    "\n",
    "//*[@id=\"__next\"]/main/div/section/div/section/div/div[1]/section[2]/section[1]/div[2]/ul"
   ]
  },
  {
   "cell_type": "markdown",
   "metadata": {},
   "source": [
    "#### 4. 평점 탭에서 시즌 정보 가져오기 "
   ]
  },
  {
   "cell_type": "markdown",
   "metadata": {},
   "source": [
    "일단 평점 탭으로 이동"
   ]
  },
  {
   "cell_type": "code",
   "execution_count": 73,
   "metadata": {},
   "outputs": [],
   "source": [
    "category_list[2].click()"
   ]
  },
  {
   "cell_type": "code",
   "execution_count": 76,
   "metadata": {},
   "outputs": [
    {
     "data": {
      "text/plain": [
       "[[' S12.E24 ', ' The Stockholm Syndrome'],\n",
       " [' S2.E11 ', ' The Bath Item Gift Hypothesis'],\n",
       " [' S9.E11 ', ' The Opening Night Excitation'],\n",
       " [' S3.E22 ', ' The Staircase Implementation'],\n",
       " [' S12.E23 ', ' The Change Constant'],\n",
       " [' S11.E24 ', ' The Bow Tie Asymmetry'],\n",
       " [' S3.E8 ', ' The Adhesive Duck Deficiency'],\n",
       " [' S2.E15 ', ' The Maternal Capacitance'],\n",
       " [' S7.E9 ', ' The Thanksgiving Decoupling'],\n",
       " [' S2.E3 ', ' The Barbarian Sublimation']]"
      ]
     },
     "execution_count": 76,
     "metadata": {},
     "output_type": "execute_result"
    }
   ],
   "source": [
    "test_data=[]\n",
    "rate_title = episode.find_elements(By.CLASS_NAME,\"ipc-title__text\")\n",
    "for t in rate_title:\n",
    "    test_data.append(t.text.split(\"∙\")[1:])\n",
    "test_data"
   ]
  },
  {
   "cell_type": "markdown",
   "metadata": {},
   "source": [
    "시즌 정보 추출"
   ]
  },
  {
   "cell_type": "code",
   "execution_count": 91,
   "metadata": {},
   "outputs": [
    {
     "data": {
      "text/plain": [
       "[' S12', ' S2', ' S9', ' S3', ' S12', ' S11', ' S3', ' S2', ' S7', ' S2']"
      ]
     },
     "execution_count": 91,
     "metadata": {},
     "output_type": "execute_result"
    }
   ],
   "source": [
    "top_ss = [data[0].split('.')[0] for data in test_data]\n",
    "#top_epi = [data[0].split('.')[1] for data in test_data]\n",
    "top_ss"
   ]
  },
  {
   "cell_type": "code",
   "execution_count": 155,
   "metadata": {},
   "outputs": [
    {
     "name": "stdout",
     "output_type": "stream",
     "text": [
      "{'S1': 0, 'S2': 3, 'S3': 2, 'S4': 0, 'S5': 0, 'S6': 0, 'S7': 1, 'S8': 0, 'S9': 1, 'S10': 0, 'S11': 1, 'S12': 2}\n"
     ]
    }
   ],
   "source": [
    "ss = [' S12', ' S2', ' S9', ' S3', ' S12', ' S11', ' S3', ' S2', ' S7', ' S2']\n",
    "ss_dic = {'S{}'.format(i): 0 for i in range(1, 13)}\n",
    "\n",
    "for element in ss:\n",
    "    key = element.strip()  # 공백 제거 후 키 값 설정\n",
    "    ss_dic[key] += 1\n",
    "\n",
    "print(ss_dic)\n"
   ]
  },
  {
   "cell_type": "code",
   "execution_count": 158,
   "metadata": {},
   "outputs": [
    {
     "data": {
      "text/plain": [
       "[0, 3, 2, 0, 0, 0, 1, 0, 1, 0, 1, 2, 0]"
      ]
     },
     "execution_count": 158,
     "metadata": {},
     "output_type": "execute_result"
    }
   ],
   "source": [
    "top_ss = list(ss_dic.values())\n",
    "top_ss.append(0)\n",
    "top_ss"
   ]
  },
  {
   "cell_type": "markdown",
   "metadata": {},
   "source": [
    "제목 정보 추출"
   ]
  },
  {
   "cell_type": "code",
   "execution_count": 79,
   "metadata": {},
   "outputs": [
    {
     "data": {
      "text/plain": [
       "[' The Stockholm Syndrome',\n",
       " ' The Bath Item Gift Hypothesis',\n",
       " ' The Opening Night Excitation',\n",
       " ' The Staircase Implementation',\n",
       " ' The Change Constant',\n",
       " ' The Bow Tie Asymmetry',\n",
       " ' The Adhesive Duck Deficiency',\n",
       " ' The Maternal Capacitance',\n",
       " ' The Thanksgiving Decoupling',\n",
       " ' The Barbarian Sublimation']"
      ]
     },
     "execution_count": 79,
     "metadata": {},
     "output_type": "execute_result"
    }
   ],
   "source": [
    "top_rate_title = [data[-1] for data in test_data]\n",
    "top_rate_title"
   ]
  },
  {
   "cell_type": "markdown",
   "metadata": {},
   "source": [
    "## 조회수를 가져오자"
   ]
  },
  {
   "cell_type": "markdown",
   "metadata": {},
   "source": [
    "#### 전체 회차에서 가져오기 "
   ]
  },
  {
   "cell_type": "code",
   "execution_count": 250,
   "metadata": {},
   "outputs": [
    {
     "ename": "ElementClickInterceptedException",
     "evalue": "Message: element click intercepted: Element <a class=\"ipc-tab ipc-tab-link ipc-tab--on-base ipc-tab--active\" role=\"tab\" tabindex=\"0\" aria-disabled=\"false\" data-testid=\"tab-season-entry\" href=\"/title/tt0898...66/episodes/?season=2\">2</a> is not clickable at point (96, 699). Other element would receive the click: <ul class=\"ipc-tabs ipc-tabs--base ipc-tabs--align-left\" role=\"tablist\">...</ul>\n  (Session info: chrome=122.0.6261.94)\nStacktrace:\n#0 0x555f34bc5793 <unknown>\n#1 0x555f348b91c6 <unknown>\n#2 0x555f3490af93 <unknown>\n#3 0x555f34908ea5 <unknown>\n#4 0x555f34906877 <unknown>\n#5 0x555f349056e8 <unknown>\n#6 0x555f348f9247 <unknown>\n#7 0x555f349263d2 <unknown>\n#8 0x555f348f8bd8 <unknown>\n#9 0x555f3492659e <unknown>\n#10 0x555f34944dd9 <unknown>\n#11 0x555f34926173 <unknown>\n#12 0x555f348f72d3 <unknown>\n#13 0x555f348f7c9e <unknown>\n#14 0x555f34b898cb <unknown>\n#15 0x555f34b8d745 <unknown>\n#16 0x555f34b762e1 <unknown>\n#17 0x555f34b8e2d2 <unknown>\n#18 0x555f34b5a17f <unknown>\n#19 0x555f34bb3dc8 <unknown>\n#20 0x555f34bb3fc3 <unknown>\n#21 0x555f34bc4944 <unknown>\n#22 0x7f2467494ac3 <unknown>\n",
     "output_type": "error",
     "traceback": [
      "\u001b[0;31m---------------------------------------------------------------------------\u001b[0m",
      "\u001b[0;31mElementClickInterceptedException\u001b[0m          Traceback (most recent call last)",
      "Cell \u001b[0;32mIn[250], line 5\u001b[0m\n\u001b[1;32m      2\u001b[0m view_list\u001b[38;5;241m=\u001b[39m[]\n\u001b[1;32m      4\u001b[0m \u001b[38;5;28;01mfor\u001b[39;00m i \u001b[38;5;129;01min\u001b[39;00m \u001b[38;5;28mrange\u001b[39m(\u001b[38;5;28mlen\u001b[39m(info_list)\u001b[38;5;241m-\u001b[39m\u001b[38;5;241m1\u001b[39m):\n\u001b[0;32m----> 5\u001b[0m     \u001b[43minfo_list\u001b[49m\u001b[43m[\u001b[49m\u001b[43mi\u001b[49m\u001b[38;5;241;43m+\u001b[39;49m\u001b[38;5;241;43m1\u001b[39;49m\u001b[43m]\u001b[49m\u001b[38;5;241;43m.\u001b[39;49m\u001b[43mclick\u001b[49m\u001b[43m(\u001b[49m\u001b[43m)\u001b[49m\n\u001b[1;32m      6\u001b[0m     time\u001b[38;5;241m.\u001b[39msleep(\u001b[38;5;241m0.5\u001b[39m)\n\u001b[1;32m      7\u001b[0m     view \u001b[38;5;241m=\u001b[39m episode\u001b[38;5;241m.\u001b[39mfind_elements(By\u001b[38;5;241m.\u001b[39mCLASS_NAME,\u001b[38;5;124m\"\u001b[39m\u001b[38;5;124mipc-rating-star--voteCount\u001b[39m\u001b[38;5;124m\"\u001b[39m)\n",
      "File \u001b[0;32m~/venv/eda_venv/lib/python3.10/site-packages/selenium/webdriver/remote/webelement.py:94\u001b[0m, in \u001b[0;36mWebElement.click\u001b[0;34m(self)\u001b[0m\n\u001b[1;32m     92\u001b[0m \u001b[38;5;28;01mdef\u001b[39;00m \u001b[38;5;21mclick\u001b[39m(\u001b[38;5;28mself\u001b[39m) \u001b[38;5;241m-\u001b[39m\u001b[38;5;241m>\u001b[39m \u001b[38;5;28;01mNone\u001b[39;00m:\n\u001b[1;32m     93\u001b[0m \u001b[38;5;250m    \u001b[39m\u001b[38;5;124;03m\"\"\"Clicks the element.\"\"\"\u001b[39;00m\n\u001b[0;32m---> 94\u001b[0m     \u001b[38;5;28;43mself\u001b[39;49m\u001b[38;5;241;43m.\u001b[39;49m\u001b[43m_execute\u001b[49m\u001b[43m(\u001b[49m\u001b[43mCommand\u001b[49m\u001b[38;5;241;43m.\u001b[39;49m\u001b[43mCLICK_ELEMENT\u001b[49m\u001b[43m)\u001b[49m\n",
      "File \u001b[0;32m~/venv/eda_venv/lib/python3.10/site-packages/selenium/webdriver/remote/webelement.py:395\u001b[0m, in \u001b[0;36mWebElement._execute\u001b[0;34m(self, command, params)\u001b[0m\n\u001b[1;32m    393\u001b[0m     params \u001b[38;5;241m=\u001b[39m {}\n\u001b[1;32m    394\u001b[0m params[\u001b[38;5;124m\"\u001b[39m\u001b[38;5;124mid\u001b[39m\u001b[38;5;124m\"\u001b[39m] \u001b[38;5;241m=\u001b[39m \u001b[38;5;28mself\u001b[39m\u001b[38;5;241m.\u001b[39m_id\n\u001b[0;32m--> 395\u001b[0m \u001b[38;5;28;01mreturn\u001b[39;00m \u001b[38;5;28;43mself\u001b[39;49m\u001b[38;5;241;43m.\u001b[39;49m\u001b[43m_parent\u001b[49m\u001b[38;5;241;43m.\u001b[39;49m\u001b[43mexecute\u001b[49m\u001b[43m(\u001b[49m\u001b[43mcommand\u001b[49m\u001b[43m,\u001b[49m\u001b[43m \u001b[49m\u001b[43mparams\u001b[49m\u001b[43m)\u001b[49m\n",
      "File \u001b[0;32m~/venv/eda_venv/lib/python3.10/site-packages/selenium/webdriver/remote/webdriver.py:347\u001b[0m, in \u001b[0;36mWebDriver.execute\u001b[0;34m(self, driver_command, params)\u001b[0m\n\u001b[1;32m    345\u001b[0m response \u001b[38;5;241m=\u001b[39m \u001b[38;5;28mself\u001b[39m\u001b[38;5;241m.\u001b[39mcommand_executor\u001b[38;5;241m.\u001b[39mexecute(driver_command, params)\n\u001b[1;32m    346\u001b[0m \u001b[38;5;28;01mif\u001b[39;00m response:\n\u001b[0;32m--> 347\u001b[0m     \u001b[38;5;28;43mself\u001b[39;49m\u001b[38;5;241;43m.\u001b[39;49m\u001b[43merror_handler\u001b[49m\u001b[38;5;241;43m.\u001b[39;49m\u001b[43mcheck_response\u001b[49m\u001b[43m(\u001b[49m\u001b[43mresponse\u001b[49m\u001b[43m)\u001b[49m\n\u001b[1;32m    348\u001b[0m     response[\u001b[38;5;124m\"\u001b[39m\u001b[38;5;124mvalue\u001b[39m\u001b[38;5;124m\"\u001b[39m] \u001b[38;5;241m=\u001b[39m \u001b[38;5;28mself\u001b[39m\u001b[38;5;241m.\u001b[39m_unwrap_value(response\u001b[38;5;241m.\u001b[39mget(\u001b[38;5;124m\"\u001b[39m\u001b[38;5;124mvalue\u001b[39m\u001b[38;5;124m\"\u001b[39m, \u001b[38;5;28;01mNone\u001b[39;00m))\n\u001b[1;32m    349\u001b[0m     \u001b[38;5;28;01mreturn\u001b[39;00m response\n",
      "File \u001b[0;32m~/venv/eda_venv/lib/python3.10/site-packages/selenium/webdriver/remote/errorhandler.py:229\u001b[0m, in \u001b[0;36mErrorHandler.check_response\u001b[0;34m(self, response)\u001b[0m\n\u001b[1;32m    227\u001b[0m         alert_text \u001b[38;5;241m=\u001b[39m value[\u001b[38;5;124m\"\u001b[39m\u001b[38;5;124malert\u001b[39m\u001b[38;5;124m\"\u001b[39m]\u001b[38;5;241m.\u001b[39mget(\u001b[38;5;124m\"\u001b[39m\u001b[38;5;124mtext\u001b[39m\u001b[38;5;124m\"\u001b[39m)\n\u001b[1;32m    228\u001b[0m     \u001b[38;5;28;01mraise\u001b[39;00m exception_class(message, screen, stacktrace, alert_text)  \u001b[38;5;66;03m# type: ignore[call-arg]  # mypy is not smart enough here\u001b[39;00m\n\u001b[0;32m--> 229\u001b[0m \u001b[38;5;28;01mraise\u001b[39;00m exception_class(message, screen, stacktrace)\n",
      "\u001b[0;31mElementClickInterceptedException\u001b[0m: Message: element click intercepted: Element <a class=\"ipc-tab ipc-tab-link ipc-tab--on-base ipc-tab--active\" role=\"tab\" tabindex=\"0\" aria-disabled=\"false\" data-testid=\"tab-season-entry\" href=\"/title/tt0898...66/episodes/?season=2\">2</a> is not clickable at point (96, 699). Other element would receive the click: <ul class=\"ipc-tabs ipc-tabs--base ipc-tabs--align-left\" role=\"tablist\">...</ul>\n  (Session info: chrome=122.0.6261.94)\nStacktrace:\n#0 0x555f34bc5793 <unknown>\n#1 0x555f348b91c6 <unknown>\n#2 0x555f3490af93 <unknown>\n#3 0x555f34908ea5 <unknown>\n#4 0x555f34906877 <unknown>\n#5 0x555f349056e8 <unknown>\n#6 0x555f348f9247 <unknown>\n#7 0x555f349263d2 <unknown>\n#8 0x555f348f8bd8 <unknown>\n#9 0x555f3492659e <unknown>\n#10 0x555f34944dd9 <unknown>\n#11 0x555f34926173 <unknown>\n#12 0x555f348f72d3 <unknown>\n#13 0x555f348f7c9e <unknown>\n#14 0x555f34b898cb <unknown>\n#15 0x555f34b8d745 <unknown>\n#16 0x555f34b762e1 <unknown>\n#17 0x555f34b8e2d2 <unknown>\n#18 0x555f34b5a17f <unknown>\n#19 0x555f34bb3dc8 <unknown>\n#20 0x555f34bb3fc3 <unknown>\n#21 0x555f34bc4944 <unknown>\n#22 0x7f2467494ac3 <unknown>\n"
     ]
    }
   ],
   "source": [
    "import time\n",
    "view_list=[]\n",
    "\n",
    "for i in range(len(info_list)-1):\n",
    "    info_list[i+1].click()\n",
    "    time.sleep(0.5)\n",
    "    view = episode.find_elements(By.CLASS_NAME,\"ipc-rating-star--voteCount\")\n",
    "    time.sleep(0.5)\n",
    "\n",
    "    for v in view:\n",
    "        view_list.append(v.text)\n",
    "        time.sleep(0.5)\n",
    "\n",
    "view_list, len(view_list)"
   ]
  },
  {
   "cell_type": "code",
   "execution_count": 18,
   "metadata": {},
   "outputs": [
    {
     "ename": "StaleElementReferenceException",
     "evalue": "Message: stale element reference: stale element not found\n  (Session info: chrome=122.0.6261.94); For documentation on this error, please visit: https://www.selenium.dev/documentation/webdriver/troubleshooting/errors#stale-element-reference-exception\nStacktrace:\n#0 0x56015024c793 <unknown>\n#1 0x56014ff401c6 <unknown>\n#2 0x56014ff4559c <unknown>\n#3 0x56014ff4732b <unknown>\n#4 0x56014ff473cc <unknown>\n#5 0x56014ff85832 <unknown>\n#6 0x56014ffad3d2 <unknown>\n#7 0x56014ff7fbd8 <unknown>\n#8 0x56014ffad59e <unknown>\n#9 0x56014ffcbdd9 <unknown>\n#10 0x56014ffad173 <unknown>\n#11 0x56014ff7e2d3 <unknown>\n#12 0x56014ff7ec9e <unknown>\n#13 0x5601502108cb <unknown>\n#14 0x560150214745 <unknown>\n#15 0x5601501fd2e1 <unknown>\n#16 0x5601502152d2 <unknown>\n#17 0x5601501e117f <unknown>\n#18 0x56015023adc8 <unknown>\n#19 0x56015023afc3 <unknown>\n#20 0x56015024b944 <unknown>\n#21 0x7fa852694ac3 <unknown>\n",
     "output_type": "error",
     "traceback": [
      "\u001b[0;31m---------------------------------------------------------------------------\u001b[0m",
      "\u001b[0;31mStaleElementReferenceException\u001b[0m            Traceback (most recent call last)",
      "Cell \u001b[0;32mIn[18], line 17\u001b[0m\n\u001b[1;32m     14\u001b[0m     time\u001b[38;5;241m.\u001b[39msleep(\u001b[38;5;241m0.5\u001b[39m)\n\u001b[1;32m     16\u001b[0m     \u001b[38;5;28;01mfor\u001b[39;00m v \u001b[38;5;129;01min\u001b[39;00m view:\n\u001b[0;32m---> 17\u001b[0m         view_list\u001b[38;5;241m.\u001b[39mappend(\u001b[43mv\u001b[49m\u001b[38;5;241;43m.\u001b[39;49m\u001b[43mtext\u001b[49m)\n\u001b[1;32m     18\u001b[0m         time\u001b[38;5;241m.\u001b[39msleep(\u001b[38;5;241m0.5\u001b[39m)\n\u001b[1;32m     20\u001b[0m view_list, \u001b[38;5;28mlen\u001b[39m(view_list)\n",
      "File \u001b[0;32m~/venv/eda_venv/lib/python3.10/site-packages/selenium/webdriver/remote/webelement.py:90\u001b[0m, in \u001b[0;36mWebElement.text\u001b[0;34m(self)\u001b[0m\n\u001b[1;32m     87\u001b[0m \u001b[38;5;129m@property\u001b[39m\n\u001b[1;32m     88\u001b[0m \u001b[38;5;28;01mdef\u001b[39;00m \u001b[38;5;21mtext\u001b[39m(\u001b[38;5;28mself\u001b[39m) \u001b[38;5;241m-\u001b[39m\u001b[38;5;241m>\u001b[39m \u001b[38;5;28mstr\u001b[39m:\n\u001b[1;32m     89\u001b[0m \u001b[38;5;250m    \u001b[39m\u001b[38;5;124;03m\"\"\"The text of the element.\"\"\"\u001b[39;00m\n\u001b[0;32m---> 90\u001b[0m     \u001b[38;5;28;01mreturn\u001b[39;00m \u001b[38;5;28;43mself\u001b[39;49m\u001b[38;5;241;43m.\u001b[39;49m\u001b[43m_execute\u001b[49m\u001b[43m(\u001b[49m\u001b[43mCommand\u001b[49m\u001b[38;5;241;43m.\u001b[39;49m\u001b[43mGET_ELEMENT_TEXT\u001b[49m\u001b[43m)\u001b[49m[\u001b[38;5;124m\"\u001b[39m\u001b[38;5;124mvalue\u001b[39m\u001b[38;5;124m\"\u001b[39m]\n",
      "File \u001b[0;32m~/venv/eda_venv/lib/python3.10/site-packages/selenium/webdriver/remote/webelement.py:395\u001b[0m, in \u001b[0;36mWebElement._execute\u001b[0;34m(self, command, params)\u001b[0m\n\u001b[1;32m    393\u001b[0m     params \u001b[38;5;241m=\u001b[39m {}\n\u001b[1;32m    394\u001b[0m params[\u001b[38;5;124m\"\u001b[39m\u001b[38;5;124mid\u001b[39m\u001b[38;5;124m\"\u001b[39m] \u001b[38;5;241m=\u001b[39m \u001b[38;5;28mself\u001b[39m\u001b[38;5;241m.\u001b[39m_id\n\u001b[0;32m--> 395\u001b[0m \u001b[38;5;28;01mreturn\u001b[39;00m \u001b[38;5;28;43mself\u001b[39;49m\u001b[38;5;241;43m.\u001b[39;49m\u001b[43m_parent\u001b[49m\u001b[38;5;241;43m.\u001b[39;49m\u001b[43mexecute\u001b[49m\u001b[43m(\u001b[49m\u001b[43mcommand\u001b[49m\u001b[43m,\u001b[49m\u001b[43m \u001b[49m\u001b[43mparams\u001b[49m\u001b[43m)\u001b[49m\n",
      "File \u001b[0;32m~/venv/eda_venv/lib/python3.10/site-packages/selenium/webdriver/remote/webdriver.py:347\u001b[0m, in \u001b[0;36mWebDriver.execute\u001b[0;34m(self, driver_command, params)\u001b[0m\n\u001b[1;32m    345\u001b[0m response \u001b[38;5;241m=\u001b[39m \u001b[38;5;28mself\u001b[39m\u001b[38;5;241m.\u001b[39mcommand_executor\u001b[38;5;241m.\u001b[39mexecute(driver_command, params)\n\u001b[1;32m    346\u001b[0m \u001b[38;5;28;01mif\u001b[39;00m response:\n\u001b[0;32m--> 347\u001b[0m     \u001b[38;5;28;43mself\u001b[39;49m\u001b[38;5;241;43m.\u001b[39;49m\u001b[43merror_handler\u001b[49m\u001b[38;5;241;43m.\u001b[39;49m\u001b[43mcheck_response\u001b[49m\u001b[43m(\u001b[49m\u001b[43mresponse\u001b[49m\u001b[43m)\u001b[49m\n\u001b[1;32m    348\u001b[0m     response[\u001b[38;5;124m\"\u001b[39m\u001b[38;5;124mvalue\u001b[39m\u001b[38;5;124m\"\u001b[39m] \u001b[38;5;241m=\u001b[39m \u001b[38;5;28mself\u001b[39m\u001b[38;5;241m.\u001b[39m_unwrap_value(response\u001b[38;5;241m.\u001b[39mget(\u001b[38;5;124m\"\u001b[39m\u001b[38;5;124mvalue\u001b[39m\u001b[38;5;124m\"\u001b[39m, \u001b[38;5;28;01mNone\u001b[39;00m))\n\u001b[1;32m    349\u001b[0m     \u001b[38;5;28;01mreturn\u001b[39;00m response\n",
      "File \u001b[0;32m~/venv/eda_venv/lib/python3.10/site-packages/selenium/webdriver/remote/errorhandler.py:229\u001b[0m, in \u001b[0;36mErrorHandler.check_response\u001b[0;34m(self, response)\u001b[0m\n\u001b[1;32m    227\u001b[0m         alert_text \u001b[38;5;241m=\u001b[39m value[\u001b[38;5;124m\"\u001b[39m\u001b[38;5;124malert\u001b[39m\u001b[38;5;124m\"\u001b[39m]\u001b[38;5;241m.\u001b[39mget(\u001b[38;5;124m\"\u001b[39m\u001b[38;5;124mtext\u001b[39m\u001b[38;5;124m\"\u001b[39m)\n\u001b[1;32m    228\u001b[0m     \u001b[38;5;28;01mraise\u001b[39;00m exception_class(message, screen, stacktrace, alert_text)  \u001b[38;5;66;03m# type: ignore[call-arg]  # mypy is not smart enough here\u001b[39;00m\n\u001b[0;32m--> 229\u001b[0m \u001b[38;5;28;01mraise\u001b[39;00m exception_class(message, screen, stacktrace)\n",
      "\u001b[0;31mStaleElementReferenceException\u001b[0m: Message: stale element reference: stale element not found\n  (Session info: chrome=122.0.6261.94); For documentation on this error, please visit: https://www.selenium.dev/documentation/webdriver/troubleshooting/errors#stale-element-reference-exception\nStacktrace:\n#0 0x56015024c793 <unknown>\n#1 0x56014ff401c6 <unknown>\n#2 0x56014ff4559c <unknown>\n#3 0x56014ff4732b <unknown>\n#4 0x56014ff473cc <unknown>\n#5 0x56014ff85832 <unknown>\n#6 0x56014ffad3d2 <unknown>\n#7 0x56014ff7fbd8 <unknown>\n#8 0x56014ffad59e <unknown>\n#9 0x56014ffcbdd9 <unknown>\n#10 0x56014ffad173 <unknown>\n#11 0x56014ff7e2d3 <unknown>\n#12 0x56014ff7ec9e <unknown>\n#13 0x5601502108cb <unknown>\n#14 0x560150214745 <unknown>\n#15 0x5601501fd2e1 <unknown>\n#16 0x5601502152d2 <unknown>\n#17 0x5601501e117f <unknown>\n#18 0x56015023adc8 <unknown>\n#19 0x56015023afc3 <unknown>\n#20 0x56015024b944 <unknown>\n#21 0x7fa852694ac3 <unknown>\n"
     ]
    }
   ],
   "source": [
    "from selenium.webdriver.common.by import By\n",
    "from selenium.webdriver.support.ui import WebDriverWait\n",
    "from selenium.webdriver.support import expected_conditions as EC\n",
    "\n",
    "import time\n",
    "import time\n",
    "\n",
    "view_list = []\n",
    "\n",
    "for i in range(len(info_list)-1):\n",
    "    driver.execute_script(\"arguments[0].click();\", info_list[i+1])\n",
    "    time.sleep(0.5)\n",
    "    view = driver.find_elements(By.CLASS_NAME, \"ipc-rating-star--voteCount\")\n",
    "    time.sleep(0.5)\n",
    "\n",
    "    for v in view:\n",
    "        view_list.append(v.text)\n",
    "        time.sleep(0.5)\n",
    "\n",
    "view_list, len(view_list)\n"
   ]
  },
  {
   "cell_type": "markdown",
   "metadata": {},
   "source": [
    "#### 보기 좋은 실수 타입으로 변환"
   ]
  },
  {
   "cell_type": "code",
   "execution_count": 246,
   "metadata": {},
   "outputs": [
    {
     "data": {
      "text/plain": [
       "[]"
      ]
     },
     "execution_count": 246,
     "metadata": {},
     "output_type": "execute_result"
    }
   ],
   "source": [
    "view_list"
   ]
  },
  {
   "cell_type": "code",
   "execution_count": 245,
   "metadata": {},
   "outputs": [],
   "source": [
    "info_list[0].click()"
   ]
  },
  {
   "cell_type": "markdown",
   "metadata": {},
   "source": [
    "평점 탭에서 조회수 정보 가져오기 "
   ]
  },
  {
   "cell_type": "code",
   "execution_count": 174,
   "metadata": {},
   "outputs": [
    {
     "data": {
      "text/plain": [
       "[' (4.6K)',\n",
       " ' (4.3K)',\n",
       " ' (5K)',\n",
       " ' (4.3K)',\n",
       " ' (4.4K)',\n",
       " ' (4.5K)',\n",
       " ' (4.7K)',\n",
       " ' (4.2K)',\n",
       " ' (4.2K)',\n",
       " ' (4.1K)',\n",
       " ' (6.9K)',\n",
       " ' (4.2K)',\n",
       " ' (4.1K)',\n",
       " ' (4.1K)',\n",
       " ' (4.9K)',\n",
       " ' (4.1K)',\n",
       " ' (4.5K)',\n",
       " ' (4.1K)',\n",
       " ' (4.2K)',\n",
       " ' (4K)',\n",
       " ' (4.3K)',\n",
       " ' (4K)',\n",
       " ' (4.1K)']"
      ]
     },
     "execution_count": 174,
     "metadata": {},
     "output_type": "execute_result"
    }
   ],
   "source": [
    "view_data = []\n",
    "view = episode.find_elements(By.CLASS_NAME,\"ipc-rating-star--voteCount\")\n",
    "for v in view:\n",
    "    view_data.append(v.text)\n",
    "view_data"
   ]
  },
  {
   "cell_type": "code",
   "execution_count": 206,
   "metadata": {},
   "outputs": [
    {
     "data": {
      "text/plain": [
       "[' 46',\n",
       " ' 43',\n",
       " ' 5',\n",
       " ' 43',\n",
       " ' 44',\n",
       " ' 45',\n",
       " ' 47',\n",
       " ' 42',\n",
       " ' 42',\n",
       " ' 41',\n",
       " ' 69',\n",
       " ' 42',\n",
       " ' 41',\n",
       " ' 41',\n",
       " ' 49',\n",
       " ' 41',\n",
       " ' 45',\n",
       " ' 41',\n",
       " ' 42',\n",
       " ' 4',\n",
       " ' 43',\n",
       " ' 4',\n",
       " ' 41']"
      ]
     },
     "execution_count": 206,
     "metadata": {},
     "output_type": "execute_result"
    }
   ],
   "source": [
    "view_data = [v.replace('(','').replace('.','').replace('K)','') for v in view_data]\n",
    "view_data"
   ]
  },
  {
   "cell_type": "markdown",
   "metadata": {},
   "source": [
    "## [3] 시각화"
   ]
  },
  {
   "cell_type": "code",
   "execution_count": 138,
   "metadata": {},
   "outputs": [
    {
     "name": "stderr",
     "output_type": "stream",
     "text": [
      "/tmp/ipykernel_3968/2162656668.py:1: DeprecationWarning: \n",
      "Pyarrow will become a required dependency of pandas in the next major release of pandas (pandas 3.0),\n",
      "(to allow more performant data types, such as the Arrow string type, and better interoperability with other libraries)\n",
      "but was not found to be installed on your system.\n",
      "If this would cause problems for you,\n",
      "please provide us feedback at https://github.com/pandas-dev/pandas/issues/54466\n",
      "        \n",
      "  import pandas as pd\n"
     ]
    }
   ],
   "source": [
    "import pandas as pd\n",
    "import numpy as np"
   ]
  },
  {
   "cell_type": "code",
   "execution_count": 159,
   "metadata": {},
   "outputs": [
    {
     "data": {
      "text/html": [
       "<div>\n",
       "<style scoped>\n",
       "    .dataframe tbody tr th:only-of-type {\n",
       "        vertical-align: middle;\n",
       "    }\n",
       "\n",
       "    .dataframe tbody tr th {\n",
       "        vertical-align: top;\n",
       "    }\n",
       "\n",
       "    .dataframe thead th {\n",
       "        text-align: right;\n",
       "    }\n",
       "</style>\n",
       "<table border=\"1\" class=\"dataframe\">\n",
       "  <thead>\n",
       "    <tr style=\"text-align: right;\">\n",
       "      <th></th>\n",
       "      <th>episode</th>\n",
       "      <th>Top-rated</th>\n",
       "    </tr>\n",
       "    <tr>\n",
       "      <th>Seasons</th>\n",
       "      <th></th>\n",
       "      <th></th>\n",
       "    </tr>\n",
       "  </thead>\n",
       "  <tbody>\n",
       "    <tr>\n",
       "      <th>1</th>\n",
       "      <td>17</td>\n",
       "      <td>0</td>\n",
       "    </tr>\n",
       "    <tr>\n",
       "      <th>2</th>\n",
       "      <td>23</td>\n",
       "      <td>3</td>\n",
       "    </tr>\n",
       "    <tr>\n",
       "      <th>3</th>\n",
       "      <td>23</td>\n",
       "      <td>2</td>\n",
       "    </tr>\n",
       "    <tr>\n",
       "      <th>4</th>\n",
       "      <td>24</td>\n",
       "      <td>0</td>\n",
       "    </tr>\n",
       "    <tr>\n",
       "      <th>5</th>\n",
       "      <td>24</td>\n",
       "      <td>0</td>\n",
       "    </tr>\n",
       "    <tr>\n",
       "      <th>6</th>\n",
       "      <td>24</td>\n",
       "      <td>0</td>\n",
       "    </tr>\n",
       "    <tr>\n",
       "      <th>7</th>\n",
       "      <td>24</td>\n",
       "      <td>1</td>\n",
       "    </tr>\n",
       "    <tr>\n",
       "      <th>8</th>\n",
       "      <td>24</td>\n",
       "      <td>0</td>\n",
       "    </tr>\n",
       "    <tr>\n",
       "      <th>9</th>\n",
       "      <td>24</td>\n",
       "      <td>1</td>\n",
       "    </tr>\n",
       "    <tr>\n",
       "      <th>10</th>\n",
       "      <td>24</td>\n",
       "      <td>0</td>\n",
       "    </tr>\n",
       "    <tr>\n",
       "      <th>11</th>\n",
       "      <td>24</td>\n",
       "      <td>1</td>\n",
       "    </tr>\n",
       "    <tr>\n",
       "      <th>12</th>\n",
       "      <td>24</td>\n",
       "      <td>2</td>\n",
       "    </tr>\n",
       "    <tr>\n",
       "      <th>Unknown</th>\n",
       "      <td>1</td>\n",
       "      <td>0</td>\n",
       "    </tr>\n",
       "  </tbody>\n",
       "</table>\n",
       "</div>"
      ],
      "text/plain": [
       "         episode  Top-rated\n",
       "Seasons                    \n",
       "1             17          0\n",
       "2             23          3\n",
       "3             23          2\n",
       "4             24          0\n",
       "5             24          0\n",
       "6             24          0\n",
       "7             24          1\n",
       "8             24          0\n",
       "9             24          1\n",
       "10            24          0\n",
       "11            24          1\n",
       "12            24          2\n",
       "Unknown        1          0"
      ]
     },
     "execution_count": 159,
     "metadata": {},
     "output_type": "execute_result"
    }
   ],
   "source": [
    "simple_result = pd.DataFrame({'Seasons': season_list,\n",
    "                              \"episode\":epi_len,\n",
    "                              \"Top-rated\" : top_ss})\n",
    "simple_result.set_index('Seasons',inplace=True)\n",
    "simple_result"
   ]
  },
  {
   "cell_type": "code",
   "execution_count": 142,
   "metadata": {},
   "outputs": [
    {
     "data": {
      "text/plain": [
       "(13, 14, 13)"
      ]
     },
     "execution_count": 142,
     "metadata": {},
     "output_type": "execute_result"
    }
   ],
   "source": [
    "len(info_list), len(info_year), len(epi_len)"
   ]
  },
  {
   "cell_type": "markdown",
   "metadata": {},
   "source": [
    "앗 !!! 2018년에 시즌 11,12 가 동시에 시작했네 ...저런 ~"
   ]
  },
  {
   "cell_type": "code",
   "execution_count": 162,
   "metadata": {},
   "outputs": [
    {
     "data": {
      "text/html": [
       "<div>\n",
       "<style scoped>\n",
       "    .dataframe tbody tr th:only-of-type {\n",
       "        vertical-align: middle;\n",
       "    }\n",
       "\n",
       "    .dataframe tbody tr th {\n",
       "        vertical-align: top;\n",
       "    }\n",
       "\n",
       "    .dataframe thead th {\n",
       "        text-align: right;\n",
       "    }\n",
       "</style>\n",
       "<table border=\"1\" class=\"dataframe\">\n",
       "  <thead>\n",
       "    <tr style=\"text-align: right;\">\n",
       "      <th></th>\n",
       "      <th>episode</th>\n",
       "      <th>Top-rated</th>\n",
       "    </tr>\n",
       "    <tr>\n",
       "      <th>Seasons</th>\n",
       "      <th></th>\n",
       "      <th></th>\n",
       "    </tr>\n",
       "  </thead>\n",
       "  <tbody>\n",
       "    <tr>\n",
       "      <th>2</th>\n",
       "      <td>23</td>\n",
       "      <td>3</td>\n",
       "    </tr>\n",
       "    <tr>\n",
       "      <th>3</th>\n",
       "      <td>23</td>\n",
       "      <td>2</td>\n",
       "    </tr>\n",
       "    <tr>\n",
       "      <th>12</th>\n",
       "      <td>24</td>\n",
       "      <td>2</td>\n",
       "    </tr>\n",
       "    <tr>\n",
       "      <th>7</th>\n",
       "      <td>24</td>\n",
       "      <td>1</td>\n",
       "    </tr>\n",
       "    <tr>\n",
       "      <th>9</th>\n",
       "      <td>24</td>\n",
       "      <td>1</td>\n",
       "    </tr>\n",
       "  </tbody>\n",
       "</table>\n",
       "</div>"
      ],
      "text/plain": [
       "         episode  Top-rated\n",
       "Seasons                    \n",
       "2             23          3\n",
       "3             23          2\n",
       "12            24          2\n",
       "7             24          1\n",
       "9             24          1"
      ]
     },
     "execution_count": 162,
     "metadata": {},
     "output_type": "execute_result"
    }
   ],
   "source": [
    "df_sorted = simple_result.sort_values(by=\"Top-rated\",ascending=False)\n",
    "df_sorted = df_sorted.head(5)\n",
    "df_sorted"
   ]
  },
  {
   "cell_type": "code",
   "execution_count": 166,
   "metadata": {},
   "outputs": [
    {
     "name": "stderr",
     "output_type": "stream",
     "text": [
      "/tmp/ipykernel_3968/3617088561.py:10: FutureWarning: Series.__getitem__ treating keys as positions is deprecated. In a future version, integer keys will always be treated as labels (consistent with DataFrame behavior). To access a value by position, use `ser.iloc[pos]`\n",
      "  plt.annotate(txt, (simple_result.index[i], simple_result['Top-rated'][i]))\n"
     ]
    },
    {
     "data": {
      "image/png": "[encoded data removed]",
      "text/plain": [
       "<Figure size 800x800 with 1 Axes>"
      ]
     },
     "metadata": {},
     "output_type": "display_data"
    }
   ],
   "source": [
    "import matplotlib.pyplot as plt\n",
    "import pandas as pd\n",
    "\n",
    "# 산점도 그래프 그리기\n",
    "plt.figure(figsize=(8, 8))\n",
    "plt.scatter(simple_result.index, simple_result['Top-rated'], s=simple_result['episode']*10, alpha=0.5)\n",
    "\n",
    "# 그래프에 주석 추가\n",
    "for i, txt in enumerate(simple_result['episode']):\n",
    "    plt.annotate(txt, (simple_result.index[i], simple_result['Top-rated'][i]))\n",
    "\n",
    "# 그래프 제목과 축 레이블 추가\n",
    "plt.title('Seasons vs Top-rated')\n",
    "plt.xlabel('Seasons')\n",
    "plt.ylabel('Top-rated')\n",
    "\n",
    "# 그래프 표시\n",
    "plt.grid(True)\n",
    "plt.show()"
   ]
  },
  {
   "cell_type": "code",
   "execution_count": 169,
   "metadata": {},
   "outputs": [
    {
     "data": {
      "image/png": "[encoded data removed]",
      "text/plain": [
       "<Figure size 1000x600 with 1 Axes>"
      ]
     },
     "metadata": {},
     "output_type": "display_data"
    }
   ],
   "source": [
    "import koreanize_matplotlib\n",
    "# 막대그래프 그리기\n",
    "plt.figure(figsize=(10, 6))\n",
    "plt.bar(simple_result.index, simple_result['Top-rated'], color='orange')\n",
    "\n",
    "# 그래프 제목과 축 레이블 추가\n",
    "plt.title('시즌별 고평점 회차 보유 수')\n",
    "plt.xlabel('Seasons')\n",
    "plt.ylabel('Top-rated')\n",
    "\n",
    "# 그래프 표시\n",
    "plt.xticks(rotation=45)\n",
    "plt.tight_layout()\n",
    "plt.show()"
   ]
  },
  {
   "cell_type": "code",
   "execution_count": null,
   "metadata": {},
   "outputs": [],
   "source": []
  }
 ],
 "metadata": {
  "kernelspec": {
   "display_name": "eda_venv",
   "language": "python",
   "name": "python3"
  },
  "language_info": {
   "codemirror_mode": {
    "name": "ipython",
    "version": 3
   },
   "file_extension": ".py",
   "mimetype": "text/x-python",
   "name": "python",
   "nbconvert_exporter": "python",
   "pygments_lexer": "ipython3",
   "version": "3.10.12"
  }
 },
 "nbformat": 4,
 "nbformat_minor": 2
}
